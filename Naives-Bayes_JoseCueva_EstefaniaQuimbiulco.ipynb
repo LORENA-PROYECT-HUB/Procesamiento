{
 "cells": [
  {
   "cell_type": "markdown",
   "metadata": {},
   "source": [
    "# PRACTICA N°8"
   ]
  },
  {
   "cell_type": "markdown",
   "metadata": {},
   "source": [
    "##### **TEMA:** _ NAIVE BAYES Y ÁRBOLES DE DECISIÓN_"
   ]
  },
  {
   "cell_type": "markdown",
   "metadata": {},
   "source": [
    "##### **INTEGRANTES:** \n",
    "#####                 _José Cueva_\n",
    "#####                 _Estefanía Quimbiulco_"
   ]
  },
  {
   "cell_type": "markdown",
   "metadata": {},
   "source": [
    "##### **OBJETIVOS:** \n",
    "+ Analizar un dataset mediante algoritmos de aprendizaje supervisado para crear un modelo de clasificación.\n",
    "+ Familiarizarse con el uso de phyton para realizar el análisis de un dataset aplicando las librerías de modelado de datos.\n",
    "+ Aplicar métodos de Python para el modelado de datos, basados en Naive-Bayes y Árboles de decisión."
   ]
  },
  {
   "cell_type": "code",
   "execution_count": 37,
   "metadata": {},
   "outputs": [],
   "source": [
    "import pandas as pd"
   ]
  },
  {
   "cell_type": "code",
   "execution_count": 38,
   "metadata": {},
   "outputs": [],
   "source": [
    "df=pd.read_csv(\"Ingresos.csv\")"
   ]
  },
  {
   "cell_type": "markdown",
   "metadata": {},
   "source": [
    "## **Análisis general:** "
   ]
  },
  {
   "cell_type": "markdown",
   "metadata": {},
   "source": [
    "Determinar el **tamaño** del dataset (Número de Registros y número de variables)."
   ]
  },
  {
   "cell_type": "code",
   "execution_count": 39,
   "metadata": {},
   "outputs": [
    {
     "data": {
      "text/plain": [
       "(16281, 9)"
      ]
     },
     "execution_count": 39,
     "metadata": {},
     "output_type": "execute_result"
    }
   ],
   "source": [
    "#Numero de registros\n",
    "df.shape\n",
    "#Numero de Registros = 16281 y Numero de variables=9"
   ]
  },
  {
   "cell_type": "markdown",
   "metadata": {},
   "source": [
    "Determinar el **tipo de dato** de cada una de las variables del dataset."
   ]
  },
  {
   "cell_type": "code",
   "execution_count": 40,
   "metadata": {},
   "outputs": [
    {
     "data": {
      "text/plain": [
       "Unnamed: 0              int64\n",
       "Unnamed: 0.1            int64\n",
       "Edad                    int64\n",
       "Nivel-Educacion         int64\n",
       "Estado-civil            int64\n",
       "Genero                  int64\n",
       "Capital                 int64\n",
       "Horas-trabajo-Semana    int64\n",
       "Ingresos                int64\n",
       "dtype: object"
      ]
     },
     "execution_count": 40,
     "metadata": {},
     "output_type": "execute_result"
    }
   ],
   "source": [
    "df.dtypes"
   ]
  },
  {
   "cell_type": "markdown",
   "metadata": {},
   "source": [
    "Verificar si existen **datos faltantes** en el dataset."
   ]
  },
  {
   "cell_type": "code",
   "execution_count": 41,
   "metadata": {},
   "outputs": [],
   "source": [
    "import numpy as np"
   ]
  },
  {
   "cell_type": "code",
   "execution_count": 42,
   "metadata": {},
   "outputs": [
    {
     "name": "stdout",
     "output_type": "stream",
     "text": [
      "Unnamed: 0\n",
      "False    16281\n",
      "Name: Unnamed: 0, dtype: int64\n",
      "\n",
      "Unnamed: 0.1\n",
      "False    16281\n",
      "Name: Unnamed: 0.1, dtype: int64\n",
      "\n",
      "Edad\n",
      "False    16281\n",
      "Name: Edad, dtype: int64\n",
      "\n",
      "Nivel-Educacion\n",
      "False    16281\n",
      "Name: Nivel-Educacion, dtype: int64\n",
      "\n",
      "Estado-civil\n",
      "False    16281\n",
      "Name: Estado-civil, dtype: int64\n",
      "\n",
      "Genero\n",
      "False    16281\n",
      "Name: Genero, dtype: int64\n",
      "\n",
      "Capital\n",
      "False    16281\n",
      "Name: Capital, dtype: int64\n",
      "\n",
      "Horas-trabajo-Semana\n",
      "False    16281\n",
      "Name: Horas-trabajo-Semana, dtype: int64\n",
      "\n",
      "Ingresos\n",
      "False    16281\n",
      "Name: Ingresos, dtype: int64\n",
      "\n"
     ]
    }
   ],
   "source": [
    "datos_faltantes=df.isnull()\n",
    "for column in datos_faltantes.columns.values.tolist():\n",
    "    print(column)\n",
    "    print(datos_faltantes[column].value_counts())\n",
    "    print(\"\")"
   ]
  },
  {
   "cell_type": "markdown",
   "metadata": {},
   "source": [
    "Determinar la **correlación** entre las variables del dataset."
   ]
  },
  {
   "cell_type": "code",
   "execution_count": 43,
   "metadata": {},
   "outputs": [
    {
     "data": {
      "text/html": [
       "<div>\n",
       "<style scoped>\n",
       "    .dataframe tbody tr th:only-of-type {\n",
       "        vertical-align: middle;\n",
       "    }\n",
       "\n",
       "    .dataframe tbody tr th {\n",
       "        vertical-align: top;\n",
       "    }\n",
       "\n",
       "    .dataframe thead th {\n",
       "        text-align: right;\n",
       "    }\n",
       "</style>\n",
       "<table border=\"1\" class=\"dataframe\">\n",
       "  <thead>\n",
       "    <tr style=\"text-align: right;\">\n",
       "      <th></th>\n",
       "      <th>Unnamed: 0</th>\n",
       "      <th>Unnamed: 0.1</th>\n",
       "      <th>Edad</th>\n",
       "      <th>Nivel-Educacion</th>\n",
       "      <th>Estado-civil</th>\n",
       "      <th>Genero</th>\n",
       "      <th>Capital</th>\n",
       "      <th>Horas-trabajo-Semana</th>\n",
       "      <th>Ingresos</th>\n",
       "    </tr>\n",
       "  </thead>\n",
       "  <tbody>\n",
       "    <tr>\n",
       "      <th>Unnamed: 0</th>\n",
       "      <td>1.000000</td>\n",
       "      <td>1.000000</td>\n",
       "      <td>0.006016</td>\n",
       "      <td>0.004774</td>\n",
       "      <td>-0.008461</td>\n",
       "      <td>-0.001907</td>\n",
       "      <td>-0.009273</td>\n",
       "      <td>-0.001574</td>\n",
       "      <td>0.002287</td>\n",
       "    </tr>\n",
       "    <tr>\n",
       "      <th>Unnamed: 0.1</th>\n",
       "      <td>1.000000</td>\n",
       "      <td>1.000000</td>\n",
       "      <td>0.006016</td>\n",
       "      <td>0.004774</td>\n",
       "      <td>-0.008461</td>\n",
       "      <td>-0.001907</td>\n",
       "      <td>-0.009273</td>\n",
       "      <td>-0.001574</td>\n",
       "      <td>0.002287</td>\n",
       "    </tr>\n",
       "    <tr>\n",
       "      <th>Edad</th>\n",
       "      <td>0.006016</td>\n",
       "      <td>0.006016</td>\n",
       "      <td>1.000000</td>\n",
       "      <td>0.019945</td>\n",
       "      <td>-0.318507</td>\n",
       "      <td>0.086773</td>\n",
       "      <td>0.076377</td>\n",
       "      <td>0.077058</td>\n",
       "      <td>0.223253</td>\n",
       "    </tr>\n",
       "    <tr>\n",
       "      <th>Nivel-Educacion</th>\n",
       "      <td>0.004774</td>\n",
       "      <td>0.004774</td>\n",
       "      <td>0.019945</td>\n",
       "      <td>1.000000</td>\n",
       "      <td>-0.064190</td>\n",
       "      <td>0.003413</td>\n",
       "      <td>0.130092</td>\n",
       "      <td>0.134899</td>\n",
       "      <td>0.327482</td>\n",
       "    </tr>\n",
       "    <tr>\n",
       "      <th>Estado-civil</th>\n",
       "      <td>-0.008461</td>\n",
       "      <td>-0.008461</td>\n",
       "      <td>-0.318507</td>\n",
       "      <td>-0.064190</td>\n",
       "      <td>1.000000</td>\n",
       "      <td>-0.419593</td>\n",
       "      <td>-0.072586</td>\n",
       "      <td>-0.214321</td>\n",
       "      <td>-0.439973</td>\n",
       "    </tr>\n",
       "    <tr>\n",
       "      <th>Genero</th>\n",
       "      <td>-0.001907</td>\n",
       "      <td>-0.001907</td>\n",
       "      <td>0.086773</td>\n",
       "      <td>0.003413</td>\n",
       "      <td>-0.419593</td>\n",
       "      <td>1.000000</td>\n",
       "      <td>0.044412</td>\n",
       "      <td>0.227077</td>\n",
       "      <td>0.211892</td>\n",
       "    </tr>\n",
       "    <tr>\n",
       "      <th>Capital</th>\n",
       "      <td>-0.009273</td>\n",
       "      <td>-0.009273</td>\n",
       "      <td>0.076377</td>\n",
       "      <td>0.130092</td>\n",
       "      <td>-0.072586</td>\n",
       "      <td>0.044412</td>\n",
       "      <td>1.000000</td>\n",
       "      <td>0.089390</td>\n",
       "      <td>0.222487</td>\n",
       "    </tr>\n",
       "    <tr>\n",
       "      <th>Horas-trabajo-Semana</th>\n",
       "      <td>-0.001574</td>\n",
       "      <td>-0.001574</td>\n",
       "      <td>0.077058</td>\n",
       "      <td>0.134899</td>\n",
       "      <td>-0.214321</td>\n",
       "      <td>0.227077</td>\n",
       "      <td>0.089390</td>\n",
       "      <td>1.000000</td>\n",
       "      <td>0.223704</td>\n",
       "    </tr>\n",
       "    <tr>\n",
       "      <th>Ingresos</th>\n",
       "      <td>0.002287</td>\n",
       "      <td>0.002287</td>\n",
       "      <td>0.223253</td>\n",
       "      <td>0.327482</td>\n",
       "      <td>-0.439973</td>\n",
       "      <td>0.211892</td>\n",
       "      <td>0.222487</td>\n",
       "      <td>0.223704</td>\n",
       "      <td>1.000000</td>\n",
       "    </tr>\n",
       "  </tbody>\n",
       "</table>\n",
       "</div>"
      ],
      "text/plain": [
       "                      Unnamed: 0  Unnamed: 0.1      Edad  Nivel-Educacion  \\\n",
       "Unnamed: 0              1.000000      1.000000  0.006016         0.004774   \n",
       "Unnamed: 0.1            1.000000      1.000000  0.006016         0.004774   \n",
       "Edad                    0.006016      0.006016  1.000000         0.019945   \n",
       "Nivel-Educacion         0.004774      0.004774  0.019945         1.000000   \n",
       "Estado-civil           -0.008461     -0.008461 -0.318507        -0.064190   \n",
       "Genero                 -0.001907     -0.001907  0.086773         0.003413   \n",
       "Capital                -0.009273     -0.009273  0.076377         0.130092   \n",
       "Horas-trabajo-Semana   -0.001574     -0.001574  0.077058         0.134899   \n",
       "Ingresos                0.002287      0.002287  0.223253         0.327482   \n",
       "\n",
       "                      Estado-civil    Genero   Capital  Horas-trabajo-Semana  \\\n",
       "Unnamed: 0               -0.008461 -0.001907 -0.009273             -0.001574   \n",
       "Unnamed: 0.1             -0.008461 -0.001907 -0.009273             -0.001574   \n",
       "Edad                     -0.318507  0.086773  0.076377              0.077058   \n",
       "Nivel-Educacion          -0.064190  0.003413  0.130092              0.134899   \n",
       "Estado-civil              1.000000 -0.419593 -0.072586             -0.214321   \n",
       "Genero                   -0.419593  1.000000  0.044412              0.227077   \n",
       "Capital                  -0.072586  0.044412  1.000000              0.089390   \n",
       "Horas-trabajo-Semana     -0.214321  0.227077  0.089390              1.000000   \n",
       "Ingresos                 -0.439973  0.211892  0.222487              0.223704   \n",
       "\n",
       "                      Ingresos  \n",
       "Unnamed: 0            0.002287  \n",
       "Unnamed: 0.1          0.002287  \n",
       "Edad                  0.223253  \n",
       "Nivel-Educacion       0.327482  \n",
       "Estado-civil         -0.439973  \n",
       "Genero                0.211892  \n",
       "Capital               0.222487  \n",
       "Horas-trabajo-Semana  0.223704  \n",
       "Ingresos              1.000000  "
      ]
     },
     "execution_count": 43,
     "metadata": {},
     "output_type": "execute_result"
    }
   ],
   "source": [
    "df.corr()"
   ]
  },
  {
   "cell_type": "markdown",
   "metadata": {},
   "source": [
    "Modificar el **tipo de dato** de las variables de entrada que considere necesario.\n"
   ]
  },
  {
   "cell_type": "code",
   "execution_count": 44,
   "metadata": {},
   "outputs": [],
   "source": [
    "# No es necesario modificar el tipo de dato, ya que todos son numéricos"
   ]
  },
  {
   "cell_type": "markdown",
   "metadata": {},
   "source": [
    "Graficar la distribución de los datos de las variables de entrada, utilizando la gráfica de **histograma**"
   ]
  },
  {
   "cell_type": "code",
   "execution_count": 45,
   "metadata": {},
   "outputs": [],
   "source": [
    "import matplotlib.pyplot as plt"
   ]
  },
  {
   "cell_type": "code",
   "execution_count": 52,
   "metadata": {},
   "outputs": [
    {
     "data": {
      "image/png": "[encoded data removed]",
      "text/plain": [
       "<Figure size 432x288 with 1 Axes>"
      ]
     },
     "metadata": {
      "needs_background": "light"
     },
     "output_type": "display_data"
    }
   ],
   "source": [
    "df[\"Edad\"].hist()\n",
    "plt.show()"
   ]
  },
  {
   "cell_type": "code",
   "execution_count": 53,
   "metadata": {},
   "outputs": [
    {
     "data": {
      "image/png": "[encoded data removed]",
      "text/plain": [
       "<Figure size 432x288 with 1 Axes>"
      ]
     },
     "metadata": {
      "needs_background": "light"
     },
     "output_type": "display_data"
    }
   ],
   "source": [
    "df[\"Nivel-Educacion\"].hist()\n",
    "plt.show()"
   ]
  },
  {
   "cell_type": "code",
   "execution_count": 54,
   "metadata": {},
   "outputs": [
    {
     "data": {
      "image/png": "[encoded data removed]",
      "text/plain": [
       "<Figure size 432x288 with 1 Axes>"
      ]
     },
     "metadata": {
      "needs_background": "light"
     },
     "output_type": "display_data"
    }
   ],
   "source": [
    "df[\"Estado-civil\"].hist()\n",
    "plt.show()"
   ]
  },
  {
   "cell_type": "code",
   "execution_count": 55,
   "metadata": {},
   "outputs": [
    {
     "data": {
      "image/png": "[encoded data removed]",
      "text/plain": [
       "<Figure size 432x288 with 1 Axes>"
      ]
     },
     "metadata": {
      "needs_background": "light"
     },
     "output_type": "display_data"
    }
   ],
   "source": [
    "df[\"Genero\"].hist()\n",
    "plt.show()"
   ]
  },
  {
   "cell_type": "code",
   "execution_count": 56,
   "metadata": {},
   "outputs": [
    {
     "data": {
      "image/png": "[encoded data removed]",
      "text/plain": [
       "<Figure size 432x288 with 1 Axes>"
      ]
     },
     "metadata": {
      "needs_background": "light"
     },
     "output_type": "display_data"
    }
   ],
   "source": [
    "df[\"Capital\"].hist()\n",
    "plt.show()"
   ]
  },
  {
   "cell_type": "code",
   "execution_count": 57,
   "metadata": {},
   "outputs": [
    {
     "data": {
      "image/png": "[encoded data removed]",
      "text/plain": [
       "<Figure size 432x288 with 1 Axes>"
      ]
     },
     "metadata": {
      "needs_background": "light"
     },
     "output_type": "display_data"
    }
   ],
   "source": [
    "df[\"Horas-trabajo-Semana\"].hist()\n",
    "plt.show()"
   ]
  },
  {
   "cell_type": "markdown",
   "metadata": {},
   "source": [
    "## **Modelo de Clasificación con Naive-Bayes** "
   ]
  },
  {
   "cell_type": "markdown",
   "metadata": {},
   "source": [
    "Obtenga el modelo de clasificación para el dataset con los métodos apropiados. Utilice todas las variables de entrada."
   ]
  },
  {
   "cell_type": "code",
   "execution_count": 60,
   "metadata": {},
   "outputs": [],
   "source": [
    "x=np.asarray(df[[\"Edad\",\"Nivel-Educacion\",\"Estado-civil\",\"Genero\",\"Capital\",\"Horas-trabajo-Semana\"]])\n",
    "y=np.asarray(df[\"Ingresos\"])"
   ]
  },
  {
   "cell_type": "code",
   "execution_count": 62,
   "metadata": {},
   "outputs": [],
   "source": [
    "#Dividir el datset\n",
    "from sklearn.model_selection import train_test_split\n",
    "xtrain,xtest,ytrain,ytest=train_test_split(x,y,random_state=1)"
   ]
  },
  {
   "cell_type": "code",
   "execution_count": 63,
   "metadata": {},
   "outputs": [],
   "source": [
    "#Clasificador Naive-Bayes\n",
    "from sklearn.naive_bayes import GaussianNB"
   ]
  },
  {
   "cell_type": "code",
   "execution_count": 64,
   "metadata": {},
   "outputs": [
    {
     "data": {
      "text/plain": [
       "GaussianNB(priors=None, var_smoothing=1e-09)"
      ]
     },
     "execution_count": 64,
     "metadata": {},
     "output_type": "execute_result"
    }
   ],
   "source": [
    "#Crear un objeto de GaGaussianNB\n",
    "GNB=GaussianNB()\n",
    "GNB"
   ]
  },
  {
   "cell_type": "code",
   "execution_count": 66,
   "metadata": {},
   "outputs": [
    {
     "data": {
      "text/plain": [
       "GaussianNB(priors=None, var_smoothing=1e-09)"
      ]
     },
     "execution_count": 66,
     "metadata": {},
     "output_type": "execute_result"
    }
   ],
   "source": [
    "#Ajustar los datos de entrenamiento - algoritmo aprende de los datos\n",
    "GNB.fit(xtrain,ytrain)"
   ]
  },
  {
   "cell_type": "code",
   "execution_count": 68,
   "metadata": {},
   "outputs": [],
   "source": [
    "#Obtenemos la hipotesis o las predicciones\n",
    "predicciones=GNB.predict(xtest)"
   ]
  },
  {
   "cell_type": "markdown",
   "metadata": {},
   "source": [
    "Evalúe el modelo obtenido con las **métricas** que considere pertinentes."
   ]
  },
  {
   "cell_type": "code",
   "execution_count": 70,
   "metadata": {},
   "outputs": [],
   "source": [
    "from sklearn.metrics import accuracy_score,precision_score"
   ]
  },
  {
   "cell_type": "code",
   "execution_count": 71,
   "metadata": {},
   "outputs": [
    {
     "name": "stdout",
     "output_type": "stream",
     "text": [
      "la exactitud del clasificador es: \n",
      "  0.7988209285187915\n",
      "la precision del clasificador es: \n",
      "  0.7908745247148289\n"
     ]
    }
   ],
   "source": [
    "#Evaluar el clasificador mediante las métricas\n",
    "acc=accuracy_score(ytest,predicciones)\n",
    "print(\"la exactitud del clasificador es: \\n \", acc)\n",
    "pre=precision_score(ytest,predicciones)\n",
    "print(\"la precision del clasificador es: \\n \", pre)"
   ]
  },
  {
   "cell_type": "markdown",
   "metadata": {},
   "source": [
    "Aplique **PCA** para disminuir el número de variables de entrada."
   ]
  },
  {
   "cell_type": "code",
   "execution_count": 72,
   "metadata": {},
   "outputs": [],
   "source": [
    "from sklearn.decomposition import PCA\n",
    "from sklearn.preprocessing import StandardScaler"
   ]
  },
  {
   "cell_type": "code",
   "execution_count": 73,
   "metadata": {},
   "outputs": [
    {
     "name": "stderr",
     "output_type": "stream",
     "text": [
      "/home/jupyterlab/conda/envs/python/lib/python3.6/site-packages/sklearn/utils/validation.py:595: DataConversionWarning: Data with input dtype int64 was converted to float64 by StandardScaler.\n",
      "  warnings.warn(msg, DataConversionWarning)\n",
      "/home/jupyterlab/conda/envs/python/lib/python3.6/site-packages/sklearn/utils/validation.py:595: DataConversionWarning: Data with input dtype int64 was converted to float64 by StandardScaler.\n",
      "  warnings.warn(msg, DataConversionWarning)\n"
     ]
    }
   ],
   "source": [
    "#Crear la nueva variable de entrada normalizada\n",
    "x_se=StandardScaler().fit_transform(x)"
   ]
  },
  {
   "cell_type": "code",
   "execution_count": 74,
   "metadata": {},
   "outputs": [],
   "source": [
    "#Instanciamos el objeto PCA y definimos 6 componentes principales\n",
    "pca=PCA(n_components=6)"
   ]
  },
  {
   "cell_type": "code",
   "execution_count": 75,
   "metadata": {},
   "outputs": [],
   "source": [
    "#Obtener componentes principales\n",
    "pca.fit(x_se)\n",
    "#X_pca tien las componenete principales\n",
    "X_pca=pca.transform(x_se)"
   ]
  },
  {
   "cell_type": "code",
   "execution_count": 76,
   "metadata": {},
   "outputs": [
    {
     "data": {
      "text/plain": [
       "array([[-0.81962244, -0.73375977, -0.9810478 ,  1.12473372,  0.11924901,\n",
       "         0.60887458],\n",
       "       [ 1.19211079, -0.61927051, -0.57625371,  0.22853928,  0.19068597,\n",
       "        -0.4465039 ],\n",
       "       [ 0.78821762,  0.13844944, -0.83090198, -0.16434185, -1.0545389 ,\n",
       "        -0.59425174],\n",
       "       ...,\n",
       "       [ 1.46007728,  0.4651791 , -0.71315572, -0.65706564, -0.40716979,\n",
       "        -0.30895196],\n",
       "       [ 0.24586841,  1.08386715,  0.05408957, -0.12569874, -0.41848526,\n",
       "         1.31432441],\n",
       "       [ 1.71131431,  0.67165041, -1.23772578, -0.63088839,  0.13805978,\n",
       "        -0.40996249]])"
      ]
     },
     "execution_count": 76,
     "metadata": {},
     "output_type": "execute_result"
    }
   ],
   "source": [
    "#Mostrar las componentes principales\n",
    "X_pca"
   ]
  },
  {
   "cell_type": "markdown",
   "metadata": {},
   "source": [
    "Obtenga nuevamente el modelo de Clasificación y evalúe con las métricas que considere pertinentes."
   ]
  },
  {
   "cell_type": "code",
   "execution_count": 77,
   "metadata": {},
   "outputs": [],
   "source": [
    "#Dividir el dataset\n",
    "xtrain1,xtest1,ytrain1,ytest1=train_test_split(X_pca,y,random_state=1)"
   ]
  },
  {
   "cell_type": "code",
   "execution_count": 78,
   "metadata": {},
   "outputs": [
    {
     "data": {
      "text/plain": [
       "GaussianNB(priors=None, var_smoothing=1e-09)"
      ]
     },
     "execution_count": 78,
     "metadata": {},
     "output_type": "execute_result"
    }
   ],
   "source": [
    "#Crear un objeto de GaGaussianNB\n",
    "GNB1=GaussianNB()\n",
    "GNB1"
   ]
  },
  {
   "cell_type": "code",
   "execution_count": 79,
   "metadata": {},
   "outputs": [
    {
     "data": {
      "text/plain": [
       "GaussianNB(priors=None, var_smoothing=1e-09)"
      ]
     },
     "execution_count": 79,
     "metadata": {},
     "output_type": "execute_result"
    }
   ],
   "source": [
    "#Ajustar los datos de entrenamiento - algoritmo aprende de los datos\n",
    "GNB1.fit(xtrain1,ytrain1)"
   ]
  },
  {
   "cell_type": "code",
   "execution_count": 80,
   "metadata": {},
   "outputs": [],
   "source": [
    "#Obtenemos la hipotesis o las predicciones\n",
    "predicciones1=GNB1.predict(xtest1)"
   ]
  },
  {
   "cell_type": "code",
   "execution_count": 81,
   "metadata": {},
   "outputs": [
    {
     "name": "stdout",
     "output_type": "stream",
     "text": [
      "la exactitud del clasificador es: \n",
      "  0.7912060918693196\n",
      "la precision del clasificador es: \n",
      "  0.6355555555555555\n"
     ]
    }
   ],
   "source": [
    "#Evaluar el clasificador mediante las métricas\n",
    "acc1=accuracy_score(ytest1,predicciones1)\n",
    "print(\"la exactitud del clasificador es: \\n \", acc1)\n",
    "pre1=precision_score(ytest1,predicciones1)\n",
    "print(\"la precision del clasificador es: \\n \", pre1)"
   ]
  },
  {
   "cell_type": "markdown",
   "metadata": {},
   "source": [
    "Realice una tabla comparativa con las métricas antes y después de aplicar **PCA**.\n"
   ]
  },
  {
   "cell_type": "markdown",
   "metadata": {},
   "source": [
    "* | sin PCA | con PCA\n",
    "--|--|--\n",
    "Exactitud| 0.7988209285187915 | 0.7912060918693196\n",
    "Precision| 0.7908745247148289 | 0.6355555555555555 "
   ]
  },
  {
   "cell_type": "code",
   "execution_count": null,
   "metadata": {},
   "outputs": [],
   "source": []
  }
 ],
 "metadata": {
  "kernelspec": {
   "display_name": "Python",
   "language": "python",
   "name": "conda-env-python-py"
  },
  "language_info": {
   "codemirror_mode": {
    "name": "ipython",
    "version": 3
   },
   "file_extension": ".py",
   "mimetype": "text/x-python",
   "name": "python",
   "nbconvert_exporter": "python",
   "pygments_lexer": "ipython3",
   "version": "3.6.12"
  }
 },
 "nbformat": 4,
 "nbformat_minor": 4
}
