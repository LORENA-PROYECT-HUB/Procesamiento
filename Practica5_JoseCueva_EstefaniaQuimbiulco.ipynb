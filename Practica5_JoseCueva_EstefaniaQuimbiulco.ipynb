{
 "cells": [
  {
   "cell_type": "markdown",
   "metadata": {},
   "source": [
    "# PRACTICA N°5"
   ]
  },
  {
   "cell_type": "markdown",
   "metadata": {},
   "source": [
    "##### **TEMA:** _SESGO Y VARIANZA_"
   ]
  },
  {
   "cell_type": "markdown",
   "metadata": {},
   "source": [
    "##### **INTEGRANTES:** \n",
    "#####                 _José Cueva_\n",
    "#####                 _Estefanía Quimbiulco_"
   ]
  },
  {
   "cell_type": "markdown",
   "metadata": {},
   "source": [
    "**Objetivos**\n",
    "+ Analizar un dataset para obtener un modelo de predicción aplicando algoritmos de aprendizaje automático\n",
    "+ Realizar un análisis estadístico y de variables del dataset.\n",
    "+ Analizar sesgo y varianza en el modelo de predicción obtenido.\n",
    "+ Implementar regularización y analizar los valores óptimos de lambda que se pueden aplicar para mejorar el rendimiento del modelo de predicción.\n",
    "+ Familiarizarse con el uso de phyton para realizar el análisis de un conjunto de datos aplicando las librerías de modelado de datos.\n"
   ]
  },
  {
   "cell_type": "code",
   "execution_count": 1,
   "metadata": {},
   "outputs": [],
   "source": [
    "import pandas as pd"
   ]
  },
  {
   "cell_type": "code",
   "execution_count": 2,
   "metadata": {},
   "outputs": [],
   "source": [
    "path=\"estudiantes.csv\""
   ]
  },
  {
   "cell_type": "code",
   "execution_count": 3,
   "metadata": {},
   "outputs": [],
   "source": [
    "df=pd.read_csv(path)"
   ]
  },
  {
   "cell_type": "markdown",
   "metadata": {},
   "source": [
    "**Análisis general del dataset:**"
   ]
  },
  {
   "cell_type": "markdown",
   "metadata": {},
   "source": [
    "+ Determinar el **tamaño del dataset** (Número de Registros y número de variables)."
   ]
  },
  {
   "cell_type": "code",
   "execution_count": 4,
   "metadata": {},
   "outputs": [
    {
     "data": {
      "text/plain": [
       "gender                         1000\n",
       "race/ethnicity                 1000\n",
       "parental level of education    1000\n",
       "lunch                          1000\n",
       "test preparation course        1000\n",
       "math score                     1000\n",
       "dtype: int64"
      ]
     },
     "execution_count": 4,
     "metadata": {},
     "output_type": "execute_result"
    }
   ],
   "source": [
    "df.count()\n",
    "#Respuesta:número de variables 6 cada uno con 1000 registros"
   ]
  },
  {
   "cell_type": "markdown",
   "metadata": {},
   "source": [
    "+ Determinar el **tipo de dato** de cada una de las variables del dataset."
   ]
  },
  {
   "cell_type": "code",
   "execution_count": 5,
   "metadata": {},
   "outputs": [
    {
     "data": {
      "text/plain": [
       "gender                         object\n",
       "race/ethnicity                 object\n",
       "parental level of education    object\n",
       "lunch                          object\n",
       "test preparation course        object\n",
       "math score                      int64\n",
       "dtype: object"
      ]
     },
     "execution_count": 5,
     "metadata": {},
     "output_type": "execute_result"
    }
   ],
   "source": [
    "df.dtypes"
   ]
  },
  {
   "cell_type": "markdown",
   "metadata": {},
   "source": [
    "+ Determine la **variable de salida** o etiqueta del dataset."
   ]
  },
  {
   "cell_type": "code",
   "execution_count": 6,
   "metadata": {},
   "outputs": [],
   "source": [
    "# la variable de salida en nuestro caso es Math-score"
   ]
  },
  {
   "cell_type": "markdown",
   "metadata": {},
   "source": [
    "+ Modifique las variables: **gender, race/ethnicity, parental level of education, lunch, test preparation course** a numéricas. Asignar valores de acuerdo a la categoría a la que pertenecen, a la vez transformar el tipo de dato.\n"
   ]
  },
  {
   "cell_type": "code",
   "execution_count": 7,
   "metadata": {},
   "outputs": [],
   "source": [
    "df[\"gender\"]=df[\"gender\"].replace(\"female\",0)\n",
    "df[\"gender\"]=df[\"gender\"].replace(\"male\",1)"
   ]
  },
  {
   "cell_type": "code",
   "execution_count": 8,
   "metadata": {},
   "outputs": [],
   "source": [
    "df[\"race/ethnicity\"]=df[\"race/ethnicity\"].replace(\"group A\",0)\n",
    "df[\"race/ethnicity\"]=df[\"race/ethnicity\"].replace(\"group B\",1)\n",
    "df[\"race/ethnicity\"]=df[\"race/ethnicity\"].replace(\"group C\",2)\n",
    "df[\"race/ethnicity\"]=df[\"race/ethnicity\"].replace(\"group D\",3)\n",
    "df[\"race/ethnicity\"]=df[\"race/ethnicity\"].replace(\"group E\",4)"
   ]
  },
  {
   "cell_type": "code",
   "execution_count": 9,
   "metadata": {},
   "outputs": [],
   "source": [
    "df[\"parental level of education\"]=df[\"parental level of education\"].replace(\"bachelor's degree\",0)\n",
    "df[\"parental level of education\"]=df[\"parental level of education\"].replace(\"some college\",1)\n",
    "df[\"parental level of education\"]=df[\"parental level of education\"].replace(\"master's degree\",2)\n",
    "df[\"parental level of education\"]=df[\"parental level of education\"].replace(\"associate's degree\",3)\n",
    "df[\"parental level of education\"]=df[\"parental level of education\"].replace(\"high school\",4)\n",
    "df[\"parental level of education\"]=df[\"parental level of education\"].replace(\"some high school\",5)"
   ]
  },
  {
   "cell_type": "code",
   "execution_count": 10,
   "metadata": {},
   "outputs": [],
   "source": [
    "df[\"lunch\"]=df[\"lunch\"].replace(\"standard\",0)\n",
    "df[\"lunch\"]=df[\"lunch\"].replace(\"free/reduced\",1)"
   ]
  },
  {
   "cell_type": "code",
   "execution_count": 11,
   "metadata": {},
   "outputs": [],
   "source": [
    "df[\"test preparation course\"]=df[\"test preparation course\"].replace(\"none\",0)\n",
    "df[\"test preparation course\"]=df[\"test preparation course\"].replace(\"completed\",1)"
   ]
  },
  {
   "cell_type": "markdown",
   "metadata": {},
   "source": [
    "+ Calcular la **correlación** existente entre todas las variables del dataset, empleando un mapa de calor. (Considere variables numéricas)"
   ]
  },
  {
   "cell_type": "code",
   "execution_count": 12,
   "metadata": {},
   "outputs": [],
   "source": [
    "import seaborn as sns\n",
    "import matplotlib.pyplot as plt\n",
    "import statsmodels.api as sm\n",
    "%matplotlib inline"
   ]
  },
  {
   "cell_type": "code",
   "execution_count": 13,
   "metadata": {},
   "outputs": [
    {
     "data": {
      "text/plain": [
       "<AxesSubplot:>"
      ]
     },
     "execution_count": 13,
     "metadata": {},
     "output_type": "execute_result"
    },
    {
     "data": {
      "image/png": "[encoded data removed]",
      "text/plain": [
       "<Figure size 432x288 with 2 Axes>"
      ]
     },
     "metadata": {
      "needs_background": "light"
     },
     "output_type": "display_data"
    }
   ],
   "source": [
    "sns.heatmap(df.corr(),annot=True)"
   ]
  },
  {
   "cell_type": "markdown",
   "metadata": {},
   "source": [
    "**Modelo de Predicción**"
   ]
  },
  {
   "cell_type": "markdown",
   "metadata": {},
   "source": [
    "Obtener un modelo de predicción del dataset:"
   ]
  },
  {
   "cell_type": "markdown",
   "metadata": {},
   "source": [
    "+ ¿Cuál es el objetivo del modelo?"
   ]
  },
  {
   "cell_type": "code",
   "execution_count": 14,
   "metadata": {},
   "outputs": [],
   "source": [
    "# El objetivo es encontrar un modelo adecuado que nos permita predecir la nota obtenida en la materia de matemáticas."
   ]
  },
  {
   "cell_type": "markdown",
   "metadata": {},
   "source": [
    "+ ¿Cuál o cuáles algoritmos de aprendizaje automático puede aplicar para obtener el modelo y por qué?\n"
   ]
  },
  {
   "cell_type": "code",
   "execution_count": 15,
   "metadata": {},
   "outputs": [],
   "source": [
    "# Regresión Lineal multivariante debido a que la variable de salida en cuantitativa."
   ]
  },
  {
   "cell_type": "markdown",
   "metadata": {},
   "source": [
    "Recomendaciones para obtener el modelo:"
   ]
  },
  {
   "cell_type": "markdown",
   "metadata": {},
   "source": [
    "+ Seleccionar más de una variable de entrada con la finalidad demejorar el aprendizaje. "
   ]
  },
  {
   "cell_type": "code",
   "execution_count": 16,
   "metadata": {},
   "outputs": [],
   "source": [
    "# las variables de entrada son: \"race/ethnicity\", \"parental level of education\", \"test preparation course\""
   ]
  },
  {
   "cell_type": "markdown",
   "metadata": {},
   "source": [
    "+ Implementar mecanismos que permitan evaluar el modelo obtenido."
   ]
  },
  {
   "cell_type": "code",
   "execution_count": 20,
   "metadata": {},
   "outputs": [],
   "source": [
    "x=df[[\"race/ethnicity\", \"parental level of education\", \"test preparation course\"]]\n",
    "y=df[\"math score\"]"
   ]
  },
  {
   "cell_type": "code",
   "execution_count": 18,
   "metadata": {},
   "outputs": [],
   "source": [
    "import sklearn.model_selection as ms\n",
    "x_train, x_test, y_train, y_test=ms.train_test_split(x,y,train_size=0.70,test_size=0.30,random_state=101)"
   ]
  },
  {
   "cell_type": "code",
   "execution_count": 21,
   "metadata": {},
   "outputs": [
    {
     "name": "stdout",
     "output_type": "stream",
     "text": [
      "numero de registros de conjunto de prueba:  300\n",
      "numero de registros de conjunto de entrenamiento:  700\n"
     ]
    }
   ],
   "source": [
    "print(\"numero de registros de conjunto de prueba: \",x_test.shape[0])\n",
    "print(\"numero de registros de conjunto de entrenamiento: \",x_train.shape[0])"
   ]
  },
  {
   "cell_type": "code",
   "execution_count": 22,
   "metadata": {},
   "outputs": [],
   "source": [
    "from sklearn.linear_model import LinearRegression\n",
    "lm=LinearRegression()"
   ]
  },
  {
   "cell_type": "code",
   "execution_count": 23,
   "metadata": {},
   "outputs": [
    {
     "data": {
      "text/plain": [
       "LinearRegression(copy_X=True, fit_intercept=True, n_jobs=None,\n",
       "         normalize=False)"
      ]
     },
     "execution_count": 23,
     "metadata": {},
     "output_type": "execute_result"
    }
   ],
   "source": [
    "lm.fit(x_train, y_train)"
   ]
  },
  {
   "cell_type": "code",
   "execution_count": 24,
   "metadata": {},
   "outputs": [],
   "source": [
    "h=lm.predict(x_test)"
   ]
  },
  {
   "cell_type": "code",
   "execution_count": 25,
   "metadata": {},
   "outputs": [
    {
     "name": "stdout",
     "output_type": "stream",
     "text": [
      "Primer valor de y_test, VALOR REAL =  545    78\n",
      "Name: math score, dtype: int64\n",
      "Primer valor de la hipótesis h, VALOR ESTIMADO =  72.71655059824056\n"
     ]
    }
   ],
   "source": [
    "print(\"Primer valor de y_test, VALOR REAL = \", y_test.head(1))\n",
    "print (\"Primer valor de la hipótesis h, VALOR ESTIMADO = \", h[0])"
   ]
  },
  {
   "cell_type": "markdown",
   "metadata": {},
   "source": [
    "+ Determinar el rendimiento del modelo empleando métricas adecuadas. Interpretar las métricas obtenidas."
   ]
  },
  {
   "cell_type": "code",
   "execution_count": 26,
   "metadata": {},
   "outputs": [
    {
     "name": "stdout",
     "output_type": "stream",
     "text": [
      "MSE del modelo es:  180.72414806828266\n"
     ]
    }
   ],
   "source": [
    "from sklearn.metrics import mean_squared_error\n",
    "mse=mean_squared_error(y_test, h)\n",
    "print(\"MSE del modelo es: \",mse)"
   ]
  },
  {
   "cell_type": "code",
   "execution_count": 34,
   "metadata": {},
   "outputs": [
    {
     "name": "stdout",
     "output_type": "stream",
     "text": [
      "El r2 del modelo es  8.349730511379738 %\n"
     ]
    }
   ],
   "source": [
    "from sklearn.metrics import r2_score\n",
    "r2= r2_score(y_test, h)\n",
    "print(\"El r2 del modelo es \", r2*100, \"%\") "
   ]
  },
  {
   "cell_type": "markdown",
   "metadata": {},
   "source": [
    "**Sesgo y varianza**"
   ]
  },
  {
   "cell_type": "markdown",
   "metadata": {},
   "source": [
    "+ Aplique Funciones Polinomiales para aumentar las características del modelo y mejorar las métricas obtenidas. Seleccione según su criterio un grado polinomial."
   ]
  },
  {
   "cell_type": "code",
   "execution_count": 28,
   "metadata": {},
   "outputs": [],
   "source": [
    "from sklearn.preprocessing import PolynomialFeatures"
   ]
  },
  {
   "cell_type": "code",
   "execution_count": 29,
   "metadata": {},
   "outputs": [],
   "source": [
    "pr=PolynomialFeatures(degree=3)\n",
    "xtrain_pr=pr.fit_transform(x_train)\n",
    "xtest_pr= pr.fit_transform(x_test)"
   ]
  },
  {
   "cell_type": "code",
   "execution_count": 30,
   "metadata": {},
   "outputs": [],
   "source": [
    "poly=LinearRegression()\n",
    "poly.fit(xtrain_pr,y_train)\n",
    "hipotesisPoly=poly.predict(xtest_pr)"
   ]
  },
  {
   "cell_type": "markdown",
   "metadata": {},
   "source": [
    "+ Realice la gráfica de error obtenido para los conjuntos de entrenamiento y prueba/validación. La gráfica determinará el MSE en función del grado polinomial (Se deben aplicar varios grados polinomiales)."
   ]
  },
  {
   "cell_type": "code",
   "execution_count": 31,
   "metadata": {},
   "outputs": [],
   "source": [
    "import matplotlib.pyplot as plt\n"
   ]
  },
  {
   "cell_type": "code",
   "execution_count": 32,
   "metadata": {},
   "outputs": [],
   "source": [
    "#Creamos vectores para guardar los errores MSE del conjunto de entrenamiento y prueba\n",
    "MSE_test=[]\n",
    "MSE_train=[]\n",
    "#Creamos un vector con los grados polinomiales\n",
    "orden =[0,1,2,3,4,5]\n",
    "#Creamos un lazo para calcular el MSE para cada orden polinomial\n",
    "for n in orden:\n",
    "    #Función polinomial para aumentar las características de entrada\n",
    "    pr=PolynomialFeatures(degree=n)\n",
    "    #Regresión lineal para realizar el ajuste, la hipótesis -->obtener el modelo\n",
    "    lr=LinearRegression()\n",
    "    #Modificar las variables de entrada para cada conjunto\n",
    "    x_train_pr=pr.fit_transform(x_train)\n",
    "    x_test_pr=pr.fit_transform(x_test)\n",
    "    #Ajuste con Regresión Lineal\n",
    "    #Se debe analizar tanto el conjunto de prueba como entrenamiento\n",
    "    #para el conjunto de entrenamiento\n",
    "    lr.fit(x_train_pr, y_train)\n",
    "    #para el conjunto de prueba\n",
    "    lr.fit(x_test_pr, y_test)\n",
    "    #Hipótesis\n",
    "    #para el conjunto de prueba\n",
    "    htest=lr.predict(x_test_pr)\n",
    "    #para el conjunto de entrenamiento\n",
    "    htrain=lr.predict(x_train_pr)\n",
    "    #Calcular los MSE y guardar en los vectores\n",
    "    MSE_train.append(mean_squared_error(htrain, y_train))\n",
    "    MSE_test.append(mean_squared_error(htest, y_test))"
   ]
  },
  {
   "cell_type": "code",
   "execution_count": 33,
   "metadata": {},
   "outputs": [
    {
     "data": {
      "text/plain": [
       "Text(0.5, 1.0, 'MSE DE CONJUNTO DE ENTRENAMIENTO Y CONJUNTO DE PRUEBA')"
      ]
     },
     "execution_count": 33,
     "metadata": {},
     "output_type": "execute_result"
    },
    {
     "data": {
      "image/png": "[encoded data removed]",
      "text/plain": [
       "<Figure size 432x288 with 1 Axes>"
      ]
     },
     "metadata": {
      "needs_background": "light"
     },
     "output_type": "display_data"
    }
   ],
   "source": [
    "#Graficar\n",
    "plt.plot(orden,MSE_train,'r')\n",
    "plt.plot(orden,MSE_test,'b')\n",
    "plt.xlabel(\"orden polinomial\")\n",
    "plt.ylabel(\"MSE\")\n",
    "plt.title(\"MSE DE CONJUNTO DE ENTRENAMIENTO Y CONJUNTO DE PRUEBA\")"
   ]
  },
  {
   "cell_type": "markdown",
   "metadata": {},
   "source": [
    "+ Determine el grado polinomial más adecuado para mejorar el rendimiento del modelo. Justifique su respuesta."
   ]
  },
  {
   "cell_type": "code",
   "execution_count": null,
   "metadata": {},
   "outputs": [],
   "source": [
    "# El grado polinomial más adecuado entre los dos conjuntos está entre [1 y 2]"
   ]
  },
  {
   "cell_type": "markdown",
   "metadata": {},
   "source": [
    "+ Realice una gráfica que permita determinar el comportamiento de la métrica R^2 en función del grado polinomial."
   ]
  },
  {
   "cell_type": "code",
   "execution_count": 35,
   "metadata": {},
   "outputs": [],
   "source": [
    "# Declarar vectores para almacenar los valores de R2 para entrenamiento y prueba \n",
    "R2_train=[]\n",
    "R2_test=[]\n",
    "# Grados polinomiales que se van a evaluar\n",
    "orden=[0,1,2,3,4,5,10]\n",
    "#Creamos un lazo para calcular R2 para c/grado_polinomial\n",
    "for n in orden:\n",
    "    pr=PolynomialFeatures(degree=n)\n",
    "    lr=LinearRegression()\n",
    "    xtrain_pr=pr.fit_transform(x_train)\n",
    "    xtest_pr=pr.fit_transform(x_test)\n",
    "    lr.fit(xtrain_pr,y_train)\n",
    "    lr.fit(xtest_pr,y_test)\n",
    "    #Calcular el R2 para entrenamiento y prueba\n",
    "    R2_train.append(lr.score(xtrain_pr,y_train))\n",
    "    R2_test.append(lr.score(xtest_pr,y_test))"
   ]
  },
  {
   "cell_type": "code",
   "execution_count": 36,
   "metadata": {},
   "outputs": [
    {
     "name": "stderr",
     "output_type": "stream",
     "text": [
      "No handles with labels found to put in legend.\n"
     ]
    },
    {
     "data": {
      "text/plain": [
       "<matplotlib.legend.Legend at 0x7feb508d55f8>"
      ]
     },
     "execution_count": 36,
     "metadata": {},
     "output_type": "execute_result"
    },
    {
     "data": {
      "image/png": "[encoded data removed]",
      "text/plain": [
       "<Figure size 432x288 with 1 Axes>"
      ]
     },
     "metadata": {
      "needs_background": "light"
     },
     "output_type": "display_data"
    }
   ],
   "source": [
    "plt.plot(orden,R2_train,'r')\n",
    "plt.plot(orden,R2_test,'b')\n",
    "plt.xlabel(\"Grado polinomial\")\n",
    "plt.ylabel(\"R2\")\n",
    "plt.title(\"R2 PARA EL CONJUNTO DE ENTRENAMIENTO Y CONJUNTO DE PRUEBA\")\n",
    "plt.legend()"
   ]
  },
  {
   "cell_type": "markdown",
   "metadata": {},
   "source": [
    "+ Obtenga nuevamente las métricas para el modelo de predicción aplicando funciones polinomiales."
   ]
  },
  {
   "cell_type": "code",
   "execution_count": 37,
   "metadata": {},
   "outputs": [
    {
     "name": "stdout",
     "output_type": "stream",
     "text": [
      "MSE del modelo es: 184.98976344362208\n",
      "r2 dle modelo es: -569.5826423662157\n"
     ]
    }
   ],
   "source": [
    "msep=mean_squared_error(hipotesisPoly,y_test)\n",
    "r2poly=r2_score(hipotesisPoly,y_test)\n",
    "print (\"MSE del modelo es:\",msep)\n",
    "print (\"r2 dle modelo es:\", r2poly*100)"
   ]
  },
  {
   "cell_type": "markdown",
   "metadata": {},
   "source": [
    "**Regularización**"
   ]
  },
  {
   "cell_type": "markdown",
   "metadata": {},
   "source": [
    "+ Aplique Regularización al modelo de predicción obtenido. Seleccione un valor de lambda según su criterio."
   ]
  },
  {
   "cell_type": "code",
   "execution_count": 38,
   "metadata": {},
   "outputs": [],
   "source": [
    "from sklearn.linear_model import Ridge"
   ]
  },
  {
   "cell_type": "code",
   "execution_count": 39,
   "metadata": {},
   "outputs": [],
   "source": [
    "x_train=x_train[[\"race/ethnicity\", \"parental level of education\", \"test preparation course\"]]\n",
    "x_test=x_test[[\"race/ethnicity\", \"parental level of education\", \"test preparation course\"]]\n",
    "pr=PolynomialFeatures(degree=5)\n",
    "xtrain_pr1=pr.fit_transform(x_train)\n",
    "xtest_pr1=pr.fit_transform(x_test)"
   ]
  },
  {
   "cell_type": "markdown",
   "metadata": {},
   "source": [
    "+ Realice la gráfica de error obtenido para los conjuntos de entrenamiento y prueba/validación para distintos valores de lambda. La gráfica determinará el MSE en función del valor de lambda (Se deben aplicar varios valores de lambda)."
   ]
  },
  {
   "cell_type": "code",
   "execution_count": 42,
   "metadata": {},
   "outputs": [
    {
     "data": {
      "text/plain": [
       "<matplotlib.legend.Legend at 0x7feb3483bcc0>"
      ]
     },
     "execution_count": 42,
     "metadata": {},
     "output_type": "execute_result"
    },
    {
     "data": {
      "image/png": "[encoded data removed]",
      "text/plain": [
       "<Figure size 432x288 with 1 Axes>"
      ]
     },
     "metadata": {
      "needs_background": "light"
     },
     "output_type": "display_data"
    }
   ],
   "source": [
    "# crear un lazo para calcular el MSE para cada valor de LAMBA (Regularizacion)\n",
    "Error_train=[]\n",
    "Error_test=[]\n",
    "LAMBDA=[0.01,0.05,0.1,1,2,3,5,10,20]\n",
    "#lazo para calcular MSE para c/lambda\n",
    "for factor in LAMBDA:\n",
    "    RidgeR=Ridge(alpha=factor)\n",
    "    RidgeR.fit(xtrain_pr1,y_train)\n",
    "    RidgeR.fit(xtest_pr1,y_test)\n",
    "    h_train1=RidgeR.predict(xtrain_pr1)\n",
    "    h_test1=RidgeR.predict(xtest_pr1)\n",
    "    #Calcular MSE\n",
    "    Error_train.append(mean_squared_error(y_train,h_train1))\n",
    "    Error_test.append(mean_squared_error(y_test,h_test1))\n",
    "\n",
    "plt.plot(LAMBDA,Error_train,'r',label=\"Conjunto de entrenamiento\")\n",
    "plt.plot(LAMBDA,Error_test,'b',label=\"Conjunto de prueba/validacion\")\n",
    "plt.xlabel(\"Lambda-Regularizacion\")\n",
    "plt.ylabel(\"MSE\")\n",
    "plt.legend()"
   ]
  },
  {
   "cell_type": "markdown",
   "metadata": {},
   "source": [
    "+ Determine el valor ideal de lambda que se debería aplicar para mejorar el modelo de predicción. Justifique su respuesta."
   ]
  },
  {
   "cell_type": "code",
   "execution_count": null,
   "metadata": {},
   "outputs": [],
   "source": [
    "# Como podemos observar en la gráfica el valor más bajo de MSE es cuando no se aplica regularización en el conjunto de prueba, pero\n",
    "# en cambio en el conjunto de entrenamiento en el mismo punto produce una subida de MSE.\n",
    "# Por otro lado al seguir analizando la gráfica se puede decir que un valor de lambda ideal es de 5 para el conjunto de entrenamiento,\n",
    "#ya que disminuye el error, y en el conjunto de prueba tiene una ligera subida."
   ]
  },
  {
   "cell_type": "markdown",
   "metadata": {},
   "source": [
    "+ Obtenga nuevamente las métricas para el modelo de predicción al aplicar regularización."
   ]
  },
  {
   "cell_type": "code",
   "execution_count": 43,
   "metadata": {},
   "outputs": [
    {
     "name": "stdout",
     "output_type": "stream",
     "text": [
      "MSE del modelo es: 165.50672417044956\n",
      "r2 dle modelo es: -479.71316038729253\n"
     ]
    }
   ],
   "source": [
    "mseR=mean_squared_error(h_test1,y_test)\n",
    "r2R=r2_score(h_test1,y_test)\n",
    "print (\"MSE del modelo es:\",mseR)\n",
    "print (\"r2 dle modelo es:\", r2R*100)"
   ]
  },
  {
   "cell_type": "markdown",
   "metadata": {},
   "source": [
    "**Tabla comparativa**"
   ]
  },
  {
   "cell_type": "markdown",
   "metadata": {},
   "source": [
    "* | Regresión Lineal | Función Polinomial | Regularización \n",
    "--|--|--|--\n",
    "MSE| 180.72414806828266 | 184.98976344362208 | 165.50672417044956\n",
    "R2| 8.349730511379738 % | -569.5826423662157 % | -479.71316038729253%"
   ]
  },
  {
   "cell_type": "code",
   "execution_count": null,
   "metadata": {},
   "outputs": [],
   "source": [
    "# Al observar el mapa de calor de las correlaciones que existen entre las variables de entrada con la variable de salida, se nota\n",
    "#claramente que son muy bajas, y que posiblemente nuestro conjunto de datos no sea adecuado para el análisis. Sin embargo, fue necesario \n",
    "# calcular las diferentes métricas que observamos en la tabla comparativa, como podemos ver el MSE obtenido aplicando Regresión Lineal, \n",
    "#Función Polinomial y Regularización es muy alto y su R2 incluso son negativos, podemos concluir que el Dataset no presenta una buena\n",
    "#dependencia estadística de los datos y por ende no permite generar un buen modelo de predicción."
   ]
  }
 ],
 "metadata": {
  "kernelspec": {
   "display_name": "Python",
   "language": "python",
   "name": "conda-env-python-py"
  },
  "language_info": {
   "codemirror_mode": {
    "name": "ipython",
    "version": 3
   },
   "file_extension": ".py",
   "mimetype": "text/x-python",
   "name": "python",
   "nbconvert_exporter": "python",
   "pygments_lexer": "ipython3",
   "version": "3.6.12"
  }
 },
 "nbformat": 4,
 "nbformat_minor": 4
}
