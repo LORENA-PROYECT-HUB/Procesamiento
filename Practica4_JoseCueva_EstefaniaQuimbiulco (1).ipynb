{
 "cells": [
  {
   "cell_type": "markdown",
   "metadata": {},
   "source": [
    "# PRACTICA N°4"
   ]
  },
  {
   "cell_type": "markdown",
   "metadata": {},
   "source": [
    "##### **TEMA:** _REDES NEURONALES_"
   ]
  },
  {
   "cell_type": "markdown",
   "metadata": {},
   "source": [
    "##### **INTEGRANTES:** \n",
    "#####                 _José Cueva_\n",
    "#####                 _Estefanía Quimbiulco_"
   ]
  },
  {
   "cell_type": "code",
   "execution_count": 1,
   "metadata": {},
   "outputs": [],
   "source": [
    "import pandas as pd"
   ]
  },
  {
   "cell_type": "code",
   "execution_count": 2,
   "metadata": {},
   "outputs": [],
   "source": [
    "path=\"Enfermedad_Corazon.csv\""
   ]
  },
  {
   "cell_type": "code",
   "execution_count": 3,
   "metadata": {},
   "outputs": [],
   "source": [
    "df=pd.read_csv(path)"
   ]
  },
  {
   "cell_type": "markdown",
   "metadata": {},
   "source": [
    "**Análisis general del dataset:**\n"
   ]
  },
  {
   "cell_type": "markdown",
   "metadata": {},
   "source": [
    "+ Determinar el **tamaño** del dataset (Número de Registros y número de variables)"
   ]
  },
  {
   "cell_type": "code",
   "execution_count": 5,
   "metadata": {},
   "outputs": [
    {
     "data": {
      "text/plain": [
       "Unnamed: 0                      303\n",
       "Edad                            303\n",
       "Genero                          303\n",
       "Tipo Dolor Pecho                303\n",
       "Presión Arterial Reposo         303\n",
       "Colesterol                      303\n",
       "Glucemia                        303\n",
       "Resultado Electrocardiograma    303\n",
       "Frecuencia Cardiáca Máxima      303\n",
       "Enfermedad Cardiáca             303\n",
       "dtype: int64"
      ]
     },
     "execution_count": 5,
     "metadata": {},
     "output_type": "execute_result"
    }
   ],
   "source": [
    "df.count()\n",
    "#Respuesta:número de variables 9 cada uno con 303 registros"
   ]
  },
  {
   "cell_type": "markdown",
   "metadata": {},
   "source": [
    "+ Determinar el **tipo de dato** de cada una de las variables del dataset."
   ]
  },
  {
   "cell_type": "code",
   "execution_count": 6,
   "metadata": {},
   "outputs": [
    {
     "data": {
      "text/plain": [
       "Unnamed: 0                      int64\n",
       "Edad                            int64\n",
       "Genero                          int64\n",
       "Tipo Dolor Pecho                int64\n",
       "Presión Arterial Reposo         int64\n",
       "Colesterol                      int64\n",
       "Glucemia                        int64\n",
       "Resultado Electrocardiograma    int64\n",
       "Frecuencia Cardiáca Máxima      int64\n",
       "Enfermedad Cardiáca             int64\n",
       "dtype: object"
      ]
     },
     "execution_count": 6,
     "metadata": {},
     "output_type": "execute_result"
    }
   ],
   "source": [
    "df.dtypes"
   ]
  },
  {
   "cell_type": "markdown",
   "metadata": {},
   "source": [
    "+ Consulte el **resumen estadístico** de cada una de las variables del dataset"
   ]
  },
  {
   "cell_type": "code",
   "execution_count": 7,
   "metadata": {},
   "outputs": [
    {
     "data": {
      "text/html": [
       "<div>\n",
       "<style scoped>\n",
       "    .dataframe tbody tr th:only-of-type {\n",
       "        vertical-align: middle;\n",
       "    }\n",
       "\n",
       "    .dataframe tbody tr th {\n",
       "        vertical-align: top;\n",
       "    }\n",
       "\n",
       "    .dataframe thead th {\n",
       "        text-align: right;\n",
       "    }\n",
       "</style>\n",
       "<table border=\"1\" class=\"dataframe\">\n",
       "  <thead>\n",
       "    <tr style=\"text-align: right;\">\n",
       "      <th></th>\n",
       "      <th>Unnamed: 0</th>\n",
       "      <th>Edad</th>\n",
       "      <th>Genero</th>\n",
       "      <th>Tipo Dolor Pecho</th>\n",
       "      <th>Presión Arterial Reposo</th>\n",
       "      <th>Colesterol</th>\n",
       "      <th>Glucemia</th>\n",
       "      <th>Resultado Electrocardiograma</th>\n",
       "      <th>Frecuencia Cardiáca Máxima</th>\n",
       "      <th>Enfermedad Cardiáca</th>\n",
       "    </tr>\n",
       "  </thead>\n",
       "  <tbody>\n",
       "    <tr>\n",
       "      <th>count</th>\n",
       "      <td>303.000000</td>\n",
       "      <td>303.000000</td>\n",
       "      <td>303.000000</td>\n",
       "      <td>303.000000</td>\n",
       "      <td>303.000000</td>\n",
       "      <td>303.000000</td>\n",
       "      <td>303.000000</td>\n",
       "      <td>303.000000</td>\n",
       "      <td>303.000000</td>\n",
       "      <td>303.000000</td>\n",
       "    </tr>\n",
       "    <tr>\n",
       "      <th>mean</th>\n",
       "      <td>151.000000</td>\n",
       "      <td>54.366337</td>\n",
       "      <td>0.683168</td>\n",
       "      <td>0.966997</td>\n",
       "      <td>131.623762</td>\n",
       "      <td>246.264026</td>\n",
       "      <td>0.148515</td>\n",
       "      <td>0.528053</td>\n",
       "      <td>149.646865</td>\n",
       "      <td>0.544554</td>\n",
       "    </tr>\n",
       "    <tr>\n",
       "      <th>std</th>\n",
       "      <td>87.612784</td>\n",
       "      <td>9.082101</td>\n",
       "      <td>0.466011</td>\n",
       "      <td>1.032052</td>\n",
       "      <td>17.538143</td>\n",
       "      <td>51.830751</td>\n",
       "      <td>0.356198</td>\n",
       "      <td>0.525860</td>\n",
       "      <td>22.905161</td>\n",
       "      <td>0.498835</td>\n",
       "    </tr>\n",
       "    <tr>\n",
       "      <th>min</th>\n",
       "      <td>0.000000</td>\n",
       "      <td>29.000000</td>\n",
       "      <td>0.000000</td>\n",
       "      <td>0.000000</td>\n",
       "      <td>94.000000</td>\n",
       "      <td>126.000000</td>\n",
       "      <td>0.000000</td>\n",
       "      <td>0.000000</td>\n",
       "      <td>71.000000</td>\n",
       "      <td>0.000000</td>\n",
       "    </tr>\n",
       "    <tr>\n",
       "      <th>25%</th>\n",
       "      <td>75.500000</td>\n",
       "      <td>47.500000</td>\n",
       "      <td>0.000000</td>\n",
       "      <td>0.000000</td>\n",
       "      <td>120.000000</td>\n",
       "      <td>211.000000</td>\n",
       "      <td>0.000000</td>\n",
       "      <td>0.000000</td>\n",
       "      <td>133.500000</td>\n",
       "      <td>0.000000</td>\n",
       "    </tr>\n",
       "    <tr>\n",
       "      <th>50%</th>\n",
       "      <td>151.000000</td>\n",
       "      <td>55.000000</td>\n",
       "      <td>1.000000</td>\n",
       "      <td>1.000000</td>\n",
       "      <td>130.000000</td>\n",
       "      <td>240.000000</td>\n",
       "      <td>0.000000</td>\n",
       "      <td>1.000000</td>\n",
       "      <td>153.000000</td>\n",
       "      <td>1.000000</td>\n",
       "    </tr>\n",
       "    <tr>\n",
       "      <th>75%</th>\n",
       "      <td>226.500000</td>\n",
       "      <td>61.000000</td>\n",
       "      <td>1.000000</td>\n",
       "      <td>2.000000</td>\n",
       "      <td>140.000000</td>\n",
       "      <td>274.500000</td>\n",
       "      <td>0.000000</td>\n",
       "      <td>1.000000</td>\n",
       "      <td>166.000000</td>\n",
       "      <td>1.000000</td>\n",
       "    </tr>\n",
       "    <tr>\n",
       "      <th>max</th>\n",
       "      <td>302.000000</td>\n",
       "      <td>77.000000</td>\n",
       "      <td>1.000000</td>\n",
       "      <td>3.000000</td>\n",
       "      <td>200.000000</td>\n",
       "      <td>564.000000</td>\n",
       "      <td>1.000000</td>\n",
       "      <td>2.000000</td>\n",
       "      <td>202.000000</td>\n",
       "      <td>1.000000</td>\n",
       "    </tr>\n",
       "  </tbody>\n",
       "</table>\n",
       "</div>"
      ],
      "text/plain": [
       "       Unnamed: 0        Edad      Genero  Tipo Dolor Pecho  \\\n",
       "count  303.000000  303.000000  303.000000        303.000000   \n",
       "mean   151.000000   54.366337    0.683168          0.966997   \n",
       "std     87.612784    9.082101    0.466011          1.032052   \n",
       "min      0.000000   29.000000    0.000000          0.000000   \n",
       "25%     75.500000   47.500000    0.000000          0.000000   \n",
       "50%    151.000000   55.000000    1.000000          1.000000   \n",
       "75%    226.500000   61.000000    1.000000          2.000000   \n",
       "max    302.000000   77.000000    1.000000          3.000000   \n",
       "\n",
       "       Presión Arterial Reposo  Colesterol    Glucemia  \\\n",
       "count               303.000000  303.000000  303.000000   \n",
       "mean                131.623762  246.264026    0.148515   \n",
       "std                  17.538143   51.830751    0.356198   \n",
       "min                  94.000000  126.000000    0.000000   \n",
       "25%                 120.000000  211.000000    0.000000   \n",
       "50%                 130.000000  240.000000    0.000000   \n",
       "75%                 140.000000  274.500000    0.000000   \n",
       "max                 200.000000  564.000000    1.000000   \n",
       "\n",
       "       Resultado Electrocardiograma  Frecuencia Cardiáca Máxima  \\\n",
       "count                    303.000000                  303.000000   \n",
       "mean                       0.528053                  149.646865   \n",
       "std                        0.525860                   22.905161   \n",
       "min                        0.000000                   71.000000   \n",
       "25%                        0.000000                  133.500000   \n",
       "50%                        1.000000                  153.000000   \n",
       "75%                        1.000000                  166.000000   \n",
       "max                        2.000000                  202.000000   \n",
       "\n",
       "       Enfermedad Cardiáca  \n",
       "count           303.000000  \n",
       "mean              0.544554  \n",
       "std               0.498835  \n",
       "min               0.000000  \n",
       "25%               0.000000  \n",
       "50%               1.000000  \n",
       "75%               1.000000  \n",
       "max               1.000000  "
      ]
     },
     "execution_count": 7,
     "metadata": {},
     "output_type": "execute_result"
    }
   ],
   "source": [
    "df.describe(include=\"all\")"
   ]
  },
  {
   "cell_type": "markdown",
   "metadata": {},
   "source": [
    "+ Determine la **variable de salida** o etiqueta del dataset."
   ]
  },
  {
   "cell_type": "code",
   "execution_count": 8,
   "metadata": {},
   "outputs": [
    {
     "data": {
      "text/html": [
       "<div>\n",
       "<style scoped>\n",
       "    .dataframe tbody tr th:only-of-type {\n",
       "        vertical-align: middle;\n",
       "    }\n",
       "\n",
       "    .dataframe tbody tr th {\n",
       "        vertical-align: top;\n",
       "    }\n",
       "\n",
       "    .dataframe thead th {\n",
       "        text-align: right;\n",
       "    }\n",
       "</style>\n",
       "<table border=\"1\" class=\"dataframe\">\n",
       "  <thead>\n",
       "    <tr style=\"text-align: right;\">\n",
       "      <th></th>\n",
       "      <th>Unnamed: 0</th>\n",
       "      <th>Edad</th>\n",
       "      <th>Genero</th>\n",
       "      <th>Tipo Dolor Pecho</th>\n",
       "      <th>Presión Arterial Reposo</th>\n",
       "      <th>Colesterol</th>\n",
       "      <th>Glucemia</th>\n",
       "      <th>Resultado Electrocardiograma</th>\n",
       "      <th>Frecuencia Cardiáca Máxima</th>\n",
       "      <th>Enfermedad Cardiáca</th>\n",
       "    </tr>\n",
       "  </thead>\n",
       "  <tbody>\n",
       "    <tr>\n",
       "      <th>Unnamed: 0</th>\n",
       "      <td>1.000000</td>\n",
       "      <td>0.185153</td>\n",
       "      <td>0.201132</td>\n",
       "      <td>-0.399163</td>\n",
       "      <td>0.108507</td>\n",
       "      <td>0.020258</td>\n",
       "      <td>0.000743</td>\n",
       "      <td>-0.021130</td>\n",
       "      <td>-0.404972</td>\n",
       "      <td>-0.862585</td>\n",
       "    </tr>\n",
       "    <tr>\n",
       "      <th>Edad</th>\n",
       "      <td>0.185153</td>\n",
       "      <td>1.000000</td>\n",
       "      <td>-0.098447</td>\n",
       "      <td>-0.068653</td>\n",
       "      <td>0.279351</td>\n",
       "      <td>0.213678</td>\n",
       "      <td>0.121308</td>\n",
       "      <td>-0.116211</td>\n",
       "      <td>-0.398522</td>\n",
       "      <td>-0.225439</td>\n",
       "    </tr>\n",
       "    <tr>\n",
       "      <th>Genero</th>\n",
       "      <td>0.201132</td>\n",
       "      <td>-0.098447</td>\n",
       "      <td>1.000000</td>\n",
       "      <td>-0.049353</td>\n",
       "      <td>-0.056769</td>\n",
       "      <td>-0.197912</td>\n",
       "      <td>0.045032</td>\n",
       "      <td>-0.058196</td>\n",
       "      <td>-0.044020</td>\n",
       "      <td>-0.280937</td>\n",
       "    </tr>\n",
       "    <tr>\n",
       "      <th>Tipo Dolor Pecho</th>\n",
       "      <td>-0.399163</td>\n",
       "      <td>-0.068653</td>\n",
       "      <td>-0.049353</td>\n",
       "      <td>1.000000</td>\n",
       "      <td>0.047608</td>\n",
       "      <td>-0.076904</td>\n",
       "      <td>0.094444</td>\n",
       "      <td>0.044421</td>\n",
       "      <td>0.295762</td>\n",
       "      <td>0.433798</td>\n",
       "    </tr>\n",
       "    <tr>\n",
       "      <th>Presión Arterial Reposo</th>\n",
       "      <td>0.108507</td>\n",
       "      <td>0.279351</td>\n",
       "      <td>-0.056769</td>\n",
       "      <td>0.047608</td>\n",
       "      <td>1.000000</td>\n",
       "      <td>0.123174</td>\n",
       "      <td>0.177531</td>\n",
       "      <td>-0.114103</td>\n",
       "      <td>-0.046698</td>\n",
       "      <td>-0.144931</td>\n",
       "    </tr>\n",
       "    <tr>\n",
       "      <th>Colesterol</th>\n",
       "      <td>0.020258</td>\n",
       "      <td>0.213678</td>\n",
       "      <td>-0.197912</td>\n",
       "      <td>-0.076904</td>\n",
       "      <td>0.123174</td>\n",
       "      <td>1.000000</td>\n",
       "      <td>0.013294</td>\n",
       "      <td>-0.151040</td>\n",
       "      <td>-0.009940</td>\n",
       "      <td>-0.085239</td>\n",
       "    </tr>\n",
       "    <tr>\n",
       "      <th>Glucemia</th>\n",
       "      <td>0.000743</td>\n",
       "      <td>0.121308</td>\n",
       "      <td>0.045032</td>\n",
       "      <td>0.094444</td>\n",
       "      <td>0.177531</td>\n",
       "      <td>0.013294</td>\n",
       "      <td>1.000000</td>\n",
       "      <td>-0.084189</td>\n",
       "      <td>-0.008567</td>\n",
       "      <td>-0.028046</td>\n",
       "    </tr>\n",
       "    <tr>\n",
       "      <th>Resultado Electrocardiograma</th>\n",
       "      <td>-0.021130</td>\n",
       "      <td>-0.116211</td>\n",
       "      <td>-0.058196</td>\n",
       "      <td>0.044421</td>\n",
       "      <td>-0.114103</td>\n",
       "      <td>-0.151040</td>\n",
       "      <td>-0.084189</td>\n",
       "      <td>1.000000</td>\n",
       "      <td>0.044123</td>\n",
       "      <td>0.137230</td>\n",
       "    </tr>\n",
       "    <tr>\n",
       "      <th>Frecuencia Cardiáca Máxima</th>\n",
       "      <td>-0.404972</td>\n",
       "      <td>-0.398522</td>\n",
       "      <td>-0.044020</td>\n",
       "      <td>0.295762</td>\n",
       "      <td>-0.046698</td>\n",
       "      <td>-0.009940</td>\n",
       "      <td>-0.008567</td>\n",
       "      <td>0.044123</td>\n",
       "      <td>1.000000</td>\n",
       "      <td>0.421741</td>\n",
       "    </tr>\n",
       "    <tr>\n",
       "      <th>Enfermedad Cardiáca</th>\n",
       "      <td>-0.862585</td>\n",
       "      <td>-0.225439</td>\n",
       "      <td>-0.280937</td>\n",
       "      <td>0.433798</td>\n",
       "      <td>-0.144931</td>\n",
       "      <td>-0.085239</td>\n",
       "      <td>-0.028046</td>\n",
       "      <td>0.137230</td>\n",
       "      <td>0.421741</td>\n",
       "      <td>1.000000</td>\n",
       "    </tr>\n",
       "  </tbody>\n",
       "</table>\n",
       "</div>"
      ],
      "text/plain": [
       "                              Unnamed: 0      Edad    Genero  \\\n",
       "Unnamed: 0                      1.000000  0.185153  0.201132   \n",
       "Edad                            0.185153  1.000000 -0.098447   \n",
       "Genero                          0.201132 -0.098447  1.000000   \n",
       "Tipo Dolor Pecho               -0.399163 -0.068653 -0.049353   \n",
       "Presión Arterial Reposo         0.108507  0.279351 -0.056769   \n",
       "Colesterol                      0.020258  0.213678 -0.197912   \n",
       "Glucemia                        0.000743  0.121308  0.045032   \n",
       "Resultado Electrocardiograma   -0.021130 -0.116211 -0.058196   \n",
       "Frecuencia Cardiáca Máxima     -0.404972 -0.398522 -0.044020   \n",
       "Enfermedad Cardiáca            -0.862585 -0.225439 -0.280937   \n",
       "\n",
       "                              Tipo Dolor Pecho  Presión Arterial Reposo  \\\n",
       "Unnamed: 0                           -0.399163                 0.108507   \n",
       "Edad                                 -0.068653                 0.279351   \n",
       "Genero                               -0.049353                -0.056769   \n",
       "Tipo Dolor Pecho                      1.000000                 0.047608   \n",
       "Presión Arterial Reposo               0.047608                 1.000000   \n",
       "Colesterol                           -0.076904                 0.123174   \n",
       "Glucemia                              0.094444                 0.177531   \n",
       "Resultado Electrocardiograma          0.044421                -0.114103   \n",
       "Frecuencia Cardiáca Máxima            0.295762                -0.046698   \n",
       "Enfermedad Cardiáca                   0.433798                -0.144931   \n",
       "\n",
       "                              Colesterol  Glucemia  \\\n",
       "Unnamed: 0                      0.020258  0.000743   \n",
       "Edad                            0.213678  0.121308   \n",
       "Genero                         -0.197912  0.045032   \n",
       "Tipo Dolor Pecho               -0.076904  0.094444   \n",
       "Presión Arterial Reposo         0.123174  0.177531   \n",
       "Colesterol                      1.000000  0.013294   \n",
       "Glucemia                        0.013294  1.000000   \n",
       "Resultado Electrocardiograma   -0.151040 -0.084189   \n",
       "Frecuencia Cardiáca Máxima     -0.009940 -0.008567   \n",
       "Enfermedad Cardiáca            -0.085239 -0.028046   \n",
       "\n",
       "                              Resultado Electrocardiograma  \\\n",
       "Unnamed: 0                                       -0.021130   \n",
       "Edad                                             -0.116211   \n",
       "Genero                                           -0.058196   \n",
       "Tipo Dolor Pecho                                  0.044421   \n",
       "Presión Arterial Reposo                          -0.114103   \n",
       "Colesterol                                       -0.151040   \n",
       "Glucemia                                         -0.084189   \n",
       "Resultado Electrocardiograma                      1.000000   \n",
       "Frecuencia Cardiáca Máxima                        0.044123   \n",
       "Enfermedad Cardiáca                               0.137230   \n",
       "\n",
       "                              Frecuencia Cardiáca Máxima  Enfermedad Cardiáca  \n",
       "Unnamed: 0                                     -0.404972            -0.862585  \n",
       "Edad                                           -0.398522            -0.225439  \n",
       "Genero                                         -0.044020            -0.280937  \n",
       "Tipo Dolor Pecho                                0.295762             0.433798  \n",
       "Presión Arterial Reposo                        -0.046698            -0.144931  \n",
       "Colesterol                                     -0.009940            -0.085239  \n",
       "Glucemia                                       -0.008567            -0.028046  \n",
       "Resultado Electrocardiograma                    0.044123             0.137230  \n",
       "Frecuencia Cardiáca Máxima                      1.000000             0.421741  \n",
       "Enfermedad Cardiáca                             0.421741             1.000000  "
      ]
     },
     "execution_count": 8,
     "metadata": {},
     "output_type": "execute_result"
    }
   ],
   "source": [
    "df.corr()\n",
    "# la variable de salida en nuestro caso es Enfermedad Cardiáca"
   ]
  },
  {
   "cell_type": "markdown",
   "metadata": {},
   "source": [
    "+ Calcular la **correlación** existente entre todas las variables del dataset, empleando un mapa de calor. (Considere variables numéricas)"
   ]
  },
  {
   "cell_type": "code",
   "execution_count": 9,
   "metadata": {},
   "outputs": [],
   "source": [
    "import seaborn as sns\n",
    "import matplotlib.pyplot as plt\n",
    "import statsmodels.api as sm\n",
    "%matplotlib inline"
   ]
  },
  {
   "cell_type": "code",
   "execution_count": 11,
   "metadata": {},
   "outputs": [
    {
     "data": {
      "text/plain": [
       "<AxesSubplot:>"
      ]
     },
     "execution_count": 11,
     "metadata": {},
     "output_type": "execute_result"
    },
    {
     "data": {
      "image/png": "[encoded data removed]",
      "text/plain": [
       "<Figure size 432x288 with 2 Axes>"
      ]
     },
     "metadata": {
      "needs_background": "light"
     },
     "output_type": "display_data"
    }
   ],
   "source": [
    "sns.heatmap(df.corr(),annot=True)"
   ]
  },
  {
   "cell_type": "markdown",
   "metadata": {},
   "source": [
    "**Redes Neuronales**"
   ]
  },
  {
   "cell_type": "markdown",
   "metadata": {},
   "source": [
    "+ Seleccionar más de una variable de entrada con la finalidad de mejorar el aprendizaje"
   ]
  },
  {
   "cell_type": "code",
   "execution_count": 12,
   "metadata": {},
   "outputs": [],
   "source": [
    "# las variables que presentan una alta relación de dependencia con la variable de salida son : \"Frecuencia Cardiáca Máxima\", \"Tipo Dolor Pecho\", \"Genero\", \"Edad\""
   ]
  },
  {
   "cell_type": "markdown",
   "metadata": {},
   "source": [
    "+ Implementar mecanismos que permitan evaluar el modelo obtenido."
   ]
  },
  {
   "cell_type": "code",
   "execution_count": 14,
   "metadata": {},
   "outputs": [],
   "source": [
    "import numpy as np\n",
    "x=np.asarray(df[[\"Frecuencia Cardiáca Máxima\", \"Tipo Dolor Pecho\", \"Genero\", \"Edad\"]])\n",
    "y=np.asarray(df[\"Enfermedad Cardiáca\"])"
   ]
  },
  {
   "cell_type": "code",
   "execution_count": 15,
   "metadata": {},
   "outputs": [],
   "source": [
    "import sklearn.model_selection as ms\n",
    "xtrain,xtest,ytrain,ytest=ms.train_test_split(x,y,train_size=0.70,test_size=0.30,random_state=101)"
   ]
  },
  {
   "cell_type": "code",
   "execution_count": 16,
   "metadata": {},
   "outputs": [
    {
     "name": "stdout",
     "output_type": "stream",
     "text": [
      "Conjunto Entrenamiento (212, 4) (212,)\n",
      "Conjunto Prueba (91, 4) (91,)\n"
     ]
    }
   ],
   "source": [
    "print(\"Conjunto Entrenamiento\",xtrain.shape,ytrain.shape)\n",
    "print(\"Conjunto Prueba\",xtest.shape,ytest.shape)"
   ]
  },
  {
   "cell_type": "code",
   "execution_count": 17,
   "metadata": {},
   "outputs": [
    {
     "data": {
      "text/plain": [
       "(212, 4)"
      ]
     },
     "execution_count": 17,
     "metadata": {},
     "output_type": "execute_result"
    }
   ],
   "source": [
    "xtrain.shape"
   ]
  },
  {
   "cell_type": "code",
   "execution_count": 18,
   "metadata": {},
   "outputs": [
    {
     "data": {
      "text/plain": [
       "(91, 4)"
      ]
     },
     "execution_count": 18,
     "metadata": {},
     "output_type": "execute_result"
    }
   ],
   "source": [
    "xtest.shape"
   ]
  },
  {
   "cell_type": "code",
   "execution_count": 21,
   "metadata": {},
   "outputs": [],
   "source": [
    "from keras.models import Sequential\n",
    "from keras.layers import Dense\n",
    "# crear modelo\n",
    "model = Sequential()\n",
    "# 1era capa oculta\n",
    "model.add(Dense(4, input_dim=4,activation=\"sigmoid\"))\n",
    "# 2da capa oculta\n",
    "model.add(Dense(4, activation=\"sigmoid\"))\n",
    "# Capa de salida\n",
    "model.add(Dense(1,activation=\"sigmoid\"))"
   ]
  },
  {
   "cell_type": "code",
   "execution_count": 22,
   "metadata": {},
   "outputs": [],
   "source": [
    "model.compile(loss=\"binary_crossentropy\",optimizer=\"adam\", metrics=[\"accuracy\"])"
   ]
  },
  {
   "cell_type": "code",
   "execution_count": 107,
   "metadata": {},
   "outputs": [
    {
     "name": "stdout",
     "output_type": "stream",
     "text": [
      "Train on 212 samples, validate on 91 samples\n",
      "Epoch 1/200\n",
      "212/212 [==============================] - 1s 4ms/step - loss: 0.4941 - acc: 0.7925 - val_loss: 0.5199 - val_acc: 0.7692\n",
      "Epoch 2/200\n",
      "212/212 [==============================] - 1s 4ms/step - loss: 0.4972 - acc: 0.7877 - val_loss: 0.5201 - val_acc: 0.7582\n",
      "Epoch 3/200\n",
      "212/212 [==============================] - 1s 5ms/step - loss: 0.4964 - acc: 0.7783 - val_loss: 0.5194 - val_acc: 0.7692\n",
      "Epoch 4/200\n",
      "212/212 [==============================] - 1s 4ms/step - loss: 0.4973 - acc: 0.7925 - val_loss: 0.5196 - val_acc: 0.7582\n",
      "Epoch 5/200\n",
      "212/212 [==============================] - 1s 4ms/step - loss: 0.4962 - acc: 0.7830 - val_loss: 0.5181 - val_acc: 0.7802\n",
      "Epoch 6/200\n",
      "212/212 [==============================] - 1s 4ms/step - loss: 0.4986 - acc: 0.7877 - val_loss: 0.5207 - val_acc: 0.7473\n",
      "Epoch 7/200\n",
      "212/212 [==============================] - 1s 5ms/step - loss: 0.4942 - acc: 0.7877 - val_loss: 0.5182 - val_acc: 0.7802\n",
      "Epoch 8/200\n",
      "212/212 [==============================] - 1s 4ms/step - loss: 0.4942 - acc: 0.7972 - val_loss: 0.5196 - val_acc: 0.7692\n",
      "Epoch 9/200\n",
      "212/212 [==============================] - 1s 4ms/step - loss: 0.4955 - acc: 0.7972 - val_loss: 0.5190 - val_acc: 0.7802\n",
      "Epoch 10/200\n",
      "212/212 [==============================] - 1s 4ms/step - loss: 0.4980 - acc: 0.7925 - val_loss: 0.5166 - val_acc: 0.7802\n",
      "Epoch 11/200\n",
      "212/212 [==============================] - 1s 4ms/step - loss: 0.4952 - acc: 0.7877 - val_loss: 0.5186 - val_acc: 0.7802\n",
      "Epoch 12/200\n",
      "212/212 [==============================] - 1s 4ms/step - loss: 0.4941 - acc: 0.7925 - val_loss: 0.5197 - val_acc: 0.7582\n",
      "Epoch 13/200\n",
      "212/212 [==============================] - 1s 4ms/step - loss: 0.4968 - acc: 0.7925 - val_loss: 0.5171 - val_acc: 0.7802\n",
      "Epoch 14/200\n",
      "212/212 [==============================] - 1s 5ms/step - loss: 0.4970 - acc: 0.7830 - val_loss: 0.5187 - val_acc: 0.7802\n",
      "Epoch 15/200\n",
      "212/212 [==============================] - 1s 4ms/step - loss: 0.4985 - acc: 0.7877 - val_loss: 0.5203 - val_acc: 0.7582\n",
      "Epoch 16/200\n",
      "212/212 [==============================] - 1s 5ms/step - loss: 0.4951 - acc: 0.7925 - val_loss: 0.5181 - val_acc: 0.7802\n",
      "Epoch 17/200\n",
      "212/212 [==============================] - 1s 5ms/step - loss: 0.5078 - acc: 0.7736 - val_loss: 0.5200 - val_acc: 0.7692\n",
      "Epoch 18/200\n",
      "212/212 [==============================] - 1s 5ms/step - loss: 0.4986 - acc: 0.7925 - val_loss: 0.5220 - val_acc: 0.7582\n",
      "Epoch 19/200\n",
      "212/212 [==============================] - 1s 4ms/step - loss: 0.4952 - acc: 0.8019 - val_loss: 0.5192 - val_acc: 0.7802\n",
      "Epoch 20/200\n",
      "212/212 [==============================] - 1s 4ms/step - loss: 0.4965 - acc: 0.7877 - val_loss: 0.5205 - val_acc: 0.7473\n",
      "Epoch 21/200\n",
      "212/212 [==============================] - 1s 5ms/step - loss: 0.4959 - acc: 0.7972 - val_loss: 0.5186 - val_acc: 0.7802\n",
      "Epoch 22/200\n",
      "212/212 [==============================] - 1s 4ms/step - loss: 0.4972 - acc: 0.7877 - val_loss: 0.5205 - val_acc: 0.7473\n",
      "Epoch 23/200\n",
      "212/212 [==============================] - 1s 6ms/step - loss: 0.4970 - acc: 0.7925 - val_loss: 0.5204 - val_acc: 0.7582\n",
      "Epoch 24/200\n",
      "212/212 [==============================] - 1s 5ms/step - loss: 0.4947 - acc: 0.7877 - val_loss: 0.5176 - val_acc: 0.7802\n",
      "Epoch 25/200\n",
      "212/212 [==============================] - 1s 4ms/step - loss: 0.4950 - acc: 0.7925 - val_loss: 0.5190 - val_acc: 0.7692\n",
      "Epoch 26/200\n",
      "212/212 [==============================] - 1s 5ms/step - loss: 0.4971 - acc: 0.7877 - val_loss: 0.5198 - val_acc: 0.7582\n",
      "Epoch 27/200\n",
      "212/212 [==============================] - 2s 8ms/step - loss: 0.4949 - acc: 0.8019 - val_loss: 0.5177 - val_acc: 0.7802\n",
      "Epoch 28/200\n",
      "212/212 [==============================] - 1s 5ms/step - loss: 0.4977 - acc: 0.7925 - val_loss: 0.5209 - val_acc: 0.7582\n",
      "Epoch 29/200\n",
      "212/212 [==============================] - 1s 4ms/step - loss: 0.4953 - acc: 0.7972 - val_loss: 0.5177 - val_acc: 0.7802\n",
      "Epoch 30/200\n",
      "212/212 [==============================] - 1s 4ms/step - loss: 0.4937 - acc: 0.7925 - val_loss: 0.5224 - val_acc: 0.7582\n",
      "Epoch 31/200\n",
      "212/212 [==============================] - 1s 4ms/step - loss: 0.4960 - acc: 0.7925 - val_loss: 0.5189 - val_acc: 0.7802\n",
      "Epoch 32/200\n",
      "212/212 [==============================] - 1s 4ms/step - loss: 0.4970 - acc: 0.7877 - val_loss: 0.5213 - val_acc: 0.7473\n",
      "Epoch 33/200\n",
      "212/212 [==============================] - 1s 6ms/step - loss: 0.5043 - acc: 0.7783 - val_loss: 0.5192 - val_acc: 0.7802\n",
      "Epoch 34/200\n",
      "212/212 [==============================] - 1s 5ms/step - loss: 0.4985 - acc: 0.7925 - val_loss: 0.5202 - val_acc: 0.7473\n",
      "Epoch 35/200\n",
      "212/212 [==============================] - 1s 4ms/step - loss: 0.4948 - acc: 0.7972 - val_loss: 0.5186 - val_acc: 0.7802\n",
      "Epoch 36/200\n",
      "212/212 [==============================] - 1s 5ms/step - loss: 0.5001 - acc: 0.7783 - val_loss: 0.5178 - val_acc: 0.7802\n",
      "Epoch 37/200\n",
      "212/212 [==============================] - 1s 4ms/step - loss: 0.4960 - acc: 0.7925 - val_loss: 0.5206 - val_acc: 0.7582\n",
      "Epoch 38/200\n",
      "212/212 [==============================] - 1s 4ms/step - loss: 0.4944 - acc: 0.7877 - val_loss: 0.5185 - val_acc: 0.7692\n",
      "Epoch 39/200\n",
      "212/212 [==============================] - 1s 4ms/step - loss: 0.4952 - acc: 0.7877 - val_loss: 0.5181 - val_acc: 0.7802\n",
      "Epoch 40/200\n",
      "212/212 [==============================] - 1s 4ms/step - loss: 0.4954 - acc: 0.7925 - val_loss: 0.5192 - val_acc: 0.7692\n",
      "Epoch 41/200\n",
      "212/212 [==============================] - 1s 4ms/step - loss: 0.4970 - acc: 0.7830 - val_loss: 0.5168 - val_acc: 0.7802\n",
      "Epoch 42/200\n",
      "212/212 [==============================] - 1s 4ms/step - loss: 0.4973 - acc: 0.7830 - val_loss: 0.5204 - val_acc: 0.7473\n",
      "Epoch 43/200\n",
      "212/212 [==============================] - 1s 4ms/step - loss: 0.4965 - acc: 0.7972 - val_loss: 0.5197 - val_acc: 0.7582\n",
      "Epoch 44/200\n",
      "212/212 [==============================] - 1s 4ms/step - loss: 0.4962 - acc: 0.7830 - val_loss: 0.5176 - val_acc: 0.7802\n",
      "Epoch 45/200\n",
      "212/212 [==============================] - 1s 4ms/step - loss: 0.4950 - acc: 0.8019 - val_loss: 0.5212 - val_acc: 0.7582\n",
      "Epoch 46/200\n",
      "212/212 [==============================] - 1s 4ms/step - loss: 0.4987 - acc: 0.7783 - val_loss: 0.5182 - val_acc: 0.7802\n",
      "Epoch 47/200\n",
      "212/212 [==============================] - 1s 4ms/step - loss: 0.4958 - acc: 0.7925 - val_loss: 0.5194 - val_acc: 0.7582\n",
      "Epoch 48/200\n",
      "212/212 [==============================] - 1s 5ms/step - loss: 0.4984 - acc: 0.7830 - val_loss: 0.5205 - val_acc: 0.7473\n",
      "Epoch 49/200\n",
      "212/212 [==============================] - 1s 4ms/step - loss: 0.4958 - acc: 0.7972 - val_loss: 0.5201 - val_acc: 0.7582\n",
      "Epoch 50/200\n",
      "212/212 [==============================] - 1s 4ms/step - loss: 0.4939 - acc: 0.7877 - val_loss: 0.5177 - val_acc: 0.7802\n",
      "Epoch 51/200\n",
      "212/212 [==============================] - 1s 4ms/step - loss: 0.4968 - acc: 0.7830 - val_loss: 0.5198 - val_acc: 0.7582\n",
      "Epoch 52/200\n",
      "212/212 [==============================] - 1s 4ms/step - loss: 0.4971 - acc: 0.7877 - val_loss: 0.5212 - val_acc: 0.7473\n",
      "Epoch 53/200\n",
      "212/212 [==============================] - 1s 5ms/step - loss: 0.4973 - acc: 0.7877 - val_loss: 0.5198 - val_acc: 0.7692\n",
      "Epoch 54/200\n",
      "212/212 [==============================] - 1s 5ms/step - loss: 0.4966 - acc: 0.7783 - val_loss: 0.5229 - val_acc: 0.7582\n",
      "Epoch 55/200\n",
      "212/212 [==============================] - 1s 5ms/step - loss: 0.5007 - acc: 0.7877 - val_loss: 0.5243 - val_acc: 0.7363\n",
      "Epoch 56/200\n",
      "212/212 [==============================] - 1s 4ms/step - loss: 0.4942 - acc: 0.7972 - val_loss: 0.5181 - val_acc: 0.7802\n",
      "Epoch 57/200\n",
      "212/212 [==============================] - 1s 5ms/step - loss: 0.5005 - acc: 0.7830 - val_loss: 0.5194 - val_acc: 0.7802\n",
      "Epoch 58/200\n",
      "212/212 [==============================] - 1s 4ms/step - loss: 0.4949 - acc: 0.7830 - val_loss: 0.5226 - val_acc: 0.7582\n",
      "Epoch 59/200\n",
      "212/212 [==============================] - 1s 5ms/step - loss: 0.4953 - acc: 0.7877 - val_loss: 0.5175 - val_acc: 0.7802\n",
      "Epoch 60/200\n",
      "212/212 [==============================] - 1s 4ms/step - loss: 0.4943 - acc: 0.7925 - val_loss: 0.5202 - val_acc: 0.7582\n",
      "Epoch 61/200\n",
      "212/212 [==============================] - 1s 7ms/step - loss: 0.4950 - acc: 0.7925 - val_loss: 0.5195 - val_acc: 0.7692\n",
      "Epoch 62/200\n",
      "212/212 [==============================] - 1s 6ms/step - loss: 0.4947 - acc: 0.7877 - val_loss: 0.5212 - val_acc: 0.7473\n",
      "Epoch 63/200\n",
      "212/212 [==============================] - 1s 5ms/step - loss: 0.4973 - acc: 0.7972 - val_loss: 0.5193 - val_acc: 0.7802\n",
      "Epoch 64/200\n",
      "212/212 [==============================] - 1s 6ms/step - loss: 0.4977 - acc: 0.7877 - val_loss: 0.5209 - val_acc: 0.7473\n",
      "Epoch 65/200\n",
      "212/212 [==============================] - 1s 6ms/step - loss: 0.4961 - acc: 0.7877 - val_loss: 0.5198 - val_acc: 0.7692\n",
      "Epoch 66/200\n",
      "212/212 [==============================] - 1s 5ms/step - loss: 0.4994 - acc: 0.7830 - val_loss: 0.5167 - val_acc: 0.7802\n",
      "Epoch 67/200\n",
      "212/212 [==============================] - 1s 4ms/step - loss: 0.4956 - acc: 0.7877 - val_loss: 0.5200 - val_acc: 0.7582\n",
      "Epoch 68/200\n",
      "212/212 [==============================] - 1s 4ms/step - loss: 0.4951 - acc: 0.7925 - val_loss: 0.5190 - val_acc: 0.7802\n",
      "Epoch 69/200\n",
      "212/212 [==============================] - 1s 4ms/step - loss: 0.4968 - acc: 0.7925 - val_loss: 0.5208 - val_acc: 0.7473\n",
      "Epoch 70/200\n",
      "212/212 [==============================] - 1s 5ms/step - loss: 0.4975 - acc: 0.8019 - val_loss: 0.5183 - val_acc: 0.7802\n",
      "Epoch 71/200\n",
      "212/212 [==============================] - 1s 4ms/step - loss: 0.4965 - acc: 0.7783 - val_loss: 0.5179 - val_acc: 0.7802\n",
      "Epoch 72/200\n",
      "212/212 [==============================] - 1s 6ms/step - loss: 0.4954 - acc: 0.7925 - val_loss: 0.5172 - val_acc: 0.7802\n",
      "Epoch 73/200\n",
      "212/212 [==============================] - 1s 5ms/step - loss: 0.4947 - acc: 0.7972 - val_loss: 0.5197 - val_acc: 0.7582\n",
      "Epoch 74/200\n",
      "212/212 [==============================] - 1s 4ms/step - loss: 0.4953 - acc: 0.7877 - val_loss: 0.5177 - val_acc: 0.7802\n",
      "Epoch 75/200\n",
      "212/212 [==============================] - 1s 4ms/step - loss: 0.4947 - acc: 0.7877 - val_loss: 0.5198 - val_acc: 0.7692\n",
      "Epoch 76/200\n",
      "212/212 [==============================] - 1s 5ms/step - loss: 0.4975 - acc: 0.8019 - val_loss: 0.5181 - val_acc: 0.7802\n",
      "Epoch 77/200\n",
      "212/212 [==============================] - 1s 4ms/step - loss: 0.4960 - acc: 0.7830 - val_loss: 0.5177 - val_acc: 0.7802\n",
      "Epoch 78/200\n",
      "212/212 [==============================] - 1s 4ms/step - loss: 0.4957 - acc: 0.7925 - val_loss: 0.5203 - val_acc: 0.7473\n",
      "Epoch 79/200\n",
      "212/212 [==============================] - 1s 5ms/step - loss: 0.4957 - acc: 0.7877 - val_loss: 0.5201 - val_acc: 0.7582\n",
      "Epoch 80/200\n",
      "212/212 [==============================] - 1s 5ms/step - loss: 0.4943 - acc: 0.7877 - val_loss: 0.5193 - val_acc: 0.7692\n",
      "Epoch 81/200\n",
      "212/212 [==============================] - 1s 4ms/step - loss: 0.4950 - acc: 0.7877 - val_loss: 0.5187 - val_acc: 0.7802\n",
      "Epoch 82/200\n",
      "212/212 [==============================] - 1s 4ms/step - loss: 0.4942 - acc: 0.7830 - val_loss: 0.5197 - val_acc: 0.7692\n",
      "Epoch 83/200\n",
      "212/212 [==============================] - 1s 4ms/step - loss: 0.4958 - acc: 0.7925 - val_loss: 0.5204 - val_acc: 0.7692\n",
      "Epoch 84/200\n",
      "212/212 [==============================] - 1s 5ms/step - loss: 0.4968 - acc: 0.7877 - val_loss: 0.5210 - val_acc: 0.7582\n",
      "Epoch 85/200\n",
      "212/212 [==============================] - 1s 5ms/step - loss: 0.4989 - acc: 0.7877 - val_loss: 0.5222 - val_acc: 0.7582\n",
      "Epoch 86/200\n",
      "212/212 [==============================] - 1s 4ms/step - loss: 0.4973 - acc: 0.7925 - val_loss: 0.5196 - val_acc: 0.7692\n",
      "Epoch 87/200\n",
      "212/212 [==============================] - 1s 5ms/step - loss: 0.4951 - acc: 0.7925 - val_loss: 0.5178 - val_acc: 0.7802\n",
      "Epoch 88/200\n",
      "212/212 [==============================] - 1s 4ms/step - loss: 0.4950 - acc: 0.7925 - val_loss: 0.5199 - val_acc: 0.7692\n",
      "Epoch 89/200\n",
      "212/212 [==============================] - 1s 5ms/step - loss: 0.4952 - acc: 0.7830 - val_loss: 0.5194 - val_acc: 0.7692\n",
      "Epoch 90/200\n",
      "212/212 [==============================] - 1s 4ms/step - loss: 0.4977 - acc: 0.7877 - val_loss: 0.5196 - val_acc: 0.7802\n",
      "Epoch 91/200\n",
      "212/212 [==============================] - 1s 4ms/step - loss: 0.4953 - acc: 0.7972 - val_loss: 0.5225 - val_acc: 0.7582\n",
      "Epoch 92/200\n",
      "212/212 [==============================] - 1s 4ms/step - loss: 0.4961 - acc: 0.7877 - val_loss: 0.5202 - val_acc: 0.7692\n",
      "Epoch 93/200\n",
      "212/212 [==============================] - 1s 4ms/step - loss: 0.4999 - acc: 0.7830 - val_loss: 0.5226 - val_acc: 0.7582\n",
      "Epoch 94/200\n",
      "212/212 [==============================] - 1s 4ms/step - loss: 0.4937 - acc: 0.7925 - val_loss: 0.5171 - val_acc: 0.7802\n",
      "Epoch 95/200\n",
      "212/212 [==============================] - 1s 4ms/step - loss: 0.4977 - acc: 0.7925 - val_loss: 0.5212 - val_acc: 0.7473\n",
      "Epoch 96/200\n",
      "212/212 [==============================] - 1s 4ms/step - loss: 0.4943 - acc: 0.7925 - val_loss: 0.5178 - val_acc: 0.7802\n",
      "Epoch 97/200\n",
      "212/212 [==============================] - 1s 5ms/step - loss: 0.4979 - acc: 0.7925 - val_loss: 0.5174 - val_acc: 0.7802\n",
      "Epoch 98/200\n",
      "212/212 [==============================] - 1s 4ms/step - loss: 0.4965 - acc: 0.7925 - val_loss: 0.5188 - val_acc: 0.7692\n",
      "Epoch 99/200\n",
      "212/212 [==============================] - 1s 5ms/step - loss: 0.4973 - acc: 0.7877 - val_loss: 0.5190 - val_acc: 0.7802\n",
      "Epoch 100/200\n",
      "212/212 [==============================] - 1s 4ms/step - loss: 0.4952 - acc: 0.7877 - val_loss: 0.5194 - val_acc: 0.7692\n",
      "Epoch 101/200\n",
      "212/212 [==============================] - 1s 4ms/step - loss: 0.4950 - acc: 0.7972 - val_loss: 0.5206 - val_acc: 0.7582\n",
      "Epoch 102/200\n",
      "212/212 [==============================] - 1s 4ms/step - loss: 0.4962 - acc: 0.7877 - val_loss: 0.5199 - val_acc: 0.7582\n",
      "Epoch 103/200\n",
      "212/212 [==============================] - 1s 5ms/step - loss: 0.4961 - acc: 0.7830 - val_loss: 0.5160 - val_acc: 0.7802\n",
      "Epoch 104/200\n",
      "212/212 [==============================] - 1s 4ms/step - loss: 0.4956 - acc: 0.7877 - val_loss: 0.5218 - val_acc: 0.7582\n",
      "Epoch 105/200\n",
      "212/212 [==============================] - 1s 4ms/step - loss: 0.4956 - acc: 0.7925 - val_loss: 0.5192 - val_acc: 0.7802\n",
      "Epoch 106/200\n",
      "212/212 [==============================] - 1s 4ms/step - loss: 0.4982 - acc: 0.7877 - val_loss: 0.5206 - val_acc: 0.7692\n",
      "Epoch 107/200\n",
      "212/212 [==============================] - 1s 4ms/step - loss: 0.4975 - acc: 0.7972 - val_loss: 0.5227 - val_acc: 0.7582\n",
      "Epoch 108/200\n",
      "212/212 [==============================] - 1s 5ms/step - loss: 0.4984 - acc: 0.7783 - val_loss: 0.5187 - val_acc: 0.7802\n",
      "Epoch 109/200\n",
      "212/212 [==============================] - 1s 4ms/step - loss: 0.4986 - acc: 0.7830 - val_loss: 0.5198 - val_acc: 0.7802\n",
      "Epoch 110/200\n",
      "212/212 [==============================] - 1s 4ms/step - loss: 0.4983 - acc: 0.7877 - val_loss: 0.5237 - val_acc: 0.7582\n",
      "Epoch 111/200\n",
      "212/212 [==============================] - 1s 4ms/step - loss: 0.4955 - acc: 0.7972 - val_loss: 0.5195 - val_acc: 0.7802\n",
      "Epoch 112/200\n",
      "212/212 [==============================] - 1s 4ms/step - loss: 0.4951 - acc: 0.7877 - val_loss: 0.5202 - val_acc: 0.7692\n",
      "Epoch 113/200\n",
      "212/212 [==============================] - 1s 4ms/step - loss: 0.4952 - acc: 0.8019 - val_loss: 0.5211 - val_acc: 0.7473\n",
      "Epoch 114/200\n",
      "212/212 [==============================] - 1s 4ms/step - loss: 0.4962 - acc: 0.8019 - val_loss: 0.5185 - val_acc: 0.7802\n",
      "Epoch 115/200\n",
      "212/212 [==============================] - 1s 4ms/step - loss: 0.4964 - acc: 0.7877 - val_loss: 0.5208 - val_acc: 0.7582\n",
      "Epoch 116/200\n",
      "212/212 [==============================] - 1s 4ms/step - loss: 0.4933 - acc: 0.7877 - val_loss: 0.5180 - val_acc: 0.7802\n",
      "Epoch 117/200\n",
      "212/212 [==============================] - 1s 4ms/step - loss: 0.4956 - acc: 0.7925 - val_loss: 0.5200 - val_acc: 0.7692\n",
      "Epoch 118/200\n",
      "212/212 [==============================] - 1s 4ms/step - loss: 0.4952 - acc: 0.7972 - val_loss: 0.5209 - val_acc: 0.7582\n",
      "Epoch 119/200\n",
      "212/212 [==============================] - 1s 5ms/step - loss: 0.4959 - acc: 0.7925 - val_loss: 0.5213 - val_acc: 0.7582\n",
      "Epoch 120/200\n",
      "212/212 [==============================] - 1s 4ms/step - loss: 0.4958 - acc: 0.7925 - val_loss: 0.5204 - val_acc: 0.7582\n",
      "Epoch 121/200\n",
      "212/212 [==============================] - 1s 4ms/step - loss: 0.4981 - acc: 0.7830 - val_loss: 0.5211 - val_acc: 0.7473\n",
      "Epoch 122/200\n",
      "212/212 [==============================] - 1s 5ms/step - loss: 0.4957 - acc: 0.7925 - val_loss: 0.5194 - val_acc: 0.7692\n",
      "Epoch 123/200\n",
      "212/212 [==============================] - 1s 5ms/step - loss: 0.4964 - acc: 0.7925 - val_loss: 0.5180 - val_acc: 0.7802\n",
      "Epoch 124/200\n",
      "212/212 [==============================] - 1s 5ms/step - loss: 0.4946 - acc: 0.7877 - val_loss: 0.5197 - val_acc: 0.7692\n",
      "Epoch 125/200\n",
      "212/212 [==============================] - 1s 4ms/step - loss: 0.4974 - acc: 0.7877 - val_loss: 0.5185 - val_acc: 0.7802\n",
      "Epoch 126/200\n",
      "212/212 [==============================] - 1s 4ms/step - loss: 0.4956 - acc: 0.7877 - val_loss: 0.5185 - val_acc: 0.7802\n",
      "Epoch 127/200\n",
      "212/212 [==============================] - 1s 4ms/step - loss: 0.4989 - acc: 0.7972 - val_loss: 0.5223 - val_acc: 0.7582\n",
      "Epoch 128/200\n",
      "212/212 [==============================] - 1s 4ms/step - loss: 0.4999 - acc: 0.7972 - val_loss: 0.5209 - val_acc: 0.7582\n",
      "Epoch 129/200\n",
      "212/212 [==============================] - 1s 4ms/step - loss: 0.4992 - acc: 0.7925 - val_loss: 0.5214 - val_acc: 0.7582\n",
      "Epoch 130/200\n",
      "212/212 [==============================] - 1s 4ms/step - loss: 0.4959 - acc: 0.7877 - val_loss: 0.5184 - val_acc: 0.7802\n",
      "Epoch 131/200\n",
      "212/212 [==============================] - 1s 4ms/step - loss: 0.4958 - acc: 0.7830 - val_loss: 0.5201 - val_acc: 0.7692\n",
      "Epoch 132/200\n",
      "212/212 [==============================] - 1s 4ms/step - loss: 0.4960 - acc: 0.8019 - val_loss: 0.5211 - val_acc: 0.7473\n",
      "Epoch 133/200\n",
      "212/212 [==============================] - 1s 4ms/step - loss: 0.4977 - acc: 0.7877 - val_loss: 0.5181 - val_acc: 0.7802\n",
      "Epoch 134/200\n",
      "212/212 [==============================] - 1s 5ms/step - loss: 0.4964 - acc: 0.7925 - val_loss: 0.5201 - val_acc: 0.7692\n",
      "Epoch 135/200\n",
      "212/212 [==============================] - 1s 4ms/step - loss: 0.4950 - acc: 0.7925 - val_loss: 0.5197 - val_acc: 0.7692\n",
      "Epoch 136/200\n",
      "212/212 [==============================] - 1s 4ms/step - loss: 0.4957 - acc: 0.7877 - val_loss: 0.5212 - val_acc: 0.7473\n",
      "Epoch 137/200\n",
      "212/212 [==============================] - 1s 4ms/step - loss: 0.4980 - acc: 0.7925 - val_loss: 0.5180 - val_acc: 0.7802\n",
      "Epoch 138/200\n",
      "212/212 [==============================] - 1s 4ms/step - loss: 0.4984 - acc: 0.7830 - val_loss: 0.5209 - val_acc: 0.7692\n",
      "Epoch 139/200\n",
      "212/212 [==============================] - 1s 4ms/step - loss: 0.4977 - acc: 0.7925 - val_loss: 0.5201 - val_acc: 0.7692\n",
      "Epoch 140/200\n",
      "212/212 [==============================] - 1s 4ms/step - loss: 0.4971 - acc: 0.7925 - val_loss: 0.5207 - val_acc: 0.7582\n",
      "Epoch 141/200\n",
      "212/212 [==============================] - 1s 4ms/step - loss: 0.4978 - acc: 0.7830 - val_loss: 0.5186 - val_acc: 0.7802\n",
      "Epoch 142/200\n",
      "212/212 [==============================] - 1s 4ms/step - loss: 0.4962 - acc: 0.7925 - val_loss: 0.5186 - val_acc: 0.7802\n",
      "Epoch 143/200\n",
      "212/212 [==============================] - 1s 4ms/step - loss: 0.4951 - acc: 0.7877 - val_loss: 0.5197 - val_acc: 0.7692\n",
      "Epoch 144/200\n",
      "212/212 [==============================] - 1s 4ms/step - loss: 0.4953 - acc: 0.7972 - val_loss: 0.5179 - val_acc: 0.7802\n",
      "Epoch 145/200\n",
      "212/212 [==============================] - 1s 5ms/step - loss: 0.4951 - acc: 0.7925 - val_loss: 0.5194 - val_acc: 0.7692\n",
      "Epoch 146/200\n",
      "212/212 [==============================] - 1s 5ms/step - loss: 0.4942 - acc: 0.7877 - val_loss: 0.5175 - val_acc: 0.7802\n",
      "Epoch 147/200\n",
      "212/212 [==============================] - 1s 5ms/step - loss: 0.4958 - acc: 0.7830 - val_loss: 0.5187 - val_acc: 0.7692\n",
      "Epoch 148/200\n",
      "212/212 [==============================] - 1s 4ms/step - loss: 0.4967 - acc: 0.7877 - val_loss: 0.5191 - val_acc: 0.7802\n",
      "Epoch 149/200\n",
      "212/212 [==============================] - 1s 4ms/step - loss: 0.4958 - acc: 0.7925 - val_loss: 0.5178 - val_acc: 0.7802\n",
      "Epoch 150/200\n",
      "212/212 [==============================] - 1s 4ms/step - loss: 0.5023 - acc: 0.7972 - val_loss: 0.5179 - val_acc: 0.7802\n",
      "Epoch 151/200\n",
      "212/212 [==============================] - 1s 4ms/step - loss: 0.4987 - acc: 0.7877 - val_loss: 0.5187 - val_acc: 0.7802\n",
      "Epoch 152/200\n",
      "212/212 [==============================] - 1s 4ms/step - loss: 0.4941 - acc: 0.7925 - val_loss: 0.5202 - val_acc: 0.7582\n",
      "Epoch 153/200\n",
      "212/212 [==============================] - 1s 5ms/step - loss: 0.4951 - acc: 0.7925 - val_loss: 0.5191 - val_acc: 0.7692\n",
      "Epoch 154/200\n",
      "212/212 [==============================] - 1s 4ms/step - loss: 0.4956 - acc: 0.7877 - val_loss: 0.5193 - val_acc: 0.7692\n",
      "Epoch 155/200\n",
      "212/212 [==============================] - 1s 4ms/step - loss: 0.4969 - acc: 0.7925 - val_loss: 0.5210 - val_acc: 0.7582\n",
      "Epoch 156/200\n",
      "212/212 [==============================] - 1s 4ms/step - loss: 0.4957 - acc: 0.7925 - val_loss: 0.5197 - val_acc: 0.7692\n",
      "Epoch 157/200\n",
      "212/212 [==============================] - 1s 5ms/step - loss: 0.4965 - acc: 0.7877 - val_loss: 0.5188 - val_acc: 0.7802\n",
      "Epoch 158/200\n",
      "212/212 [==============================] - 4s 19ms/step - loss: 0.4956 - acc: 0.7972 - val_loss: 0.5193 - val_acc: 0.7802\n",
      "Epoch 159/200\n",
      "212/212 [==============================] - 1s 4ms/step - loss: 0.4959 - acc: 0.7877 - val_loss: 0.5211 - val_acc: 0.7473\n",
      "Epoch 160/200\n",
      "212/212 [==============================] - 1s 4ms/step - loss: 0.4970 - acc: 0.7877 - val_loss: 0.5181 - val_acc: 0.7802\n",
      "Epoch 161/200\n",
      "212/212 [==============================] - 1s 4ms/step - loss: 0.4952 - acc: 0.7877 - val_loss: 0.5186 - val_acc: 0.7802\n",
      "Epoch 162/200\n",
      "212/212 [==============================] - 1s 5ms/step - loss: 0.4941 - acc: 0.7925 - val_loss: 0.5190 - val_acc: 0.7692\n",
      "Epoch 163/200\n",
      "212/212 [==============================] - 1s 4ms/step - loss: 0.4972 - acc: 0.7830 - val_loss: 0.5200 - val_acc: 0.7582\n",
      "Epoch 164/200\n",
      "212/212 [==============================] - 1s 4ms/step - loss: 0.4958 - acc: 0.7972 - val_loss: 0.5195 - val_acc: 0.7582\n",
      "Epoch 165/200\n",
      "212/212 [==============================] - 1s 4ms/step - loss: 0.4937 - acc: 0.7925 - val_loss: 0.5161 - val_acc: 0.7802\n",
      "Epoch 166/200\n",
      "212/212 [==============================] - 1s 4ms/step - loss: 0.4944 - acc: 0.7877 - val_loss: 0.5198 - val_acc: 0.7582\n",
      "Epoch 167/200\n",
      "212/212 [==============================] - 1s 4ms/step - loss: 0.4971 - acc: 0.7877 - val_loss: 0.5183 - val_acc: 0.7802\n",
      "Epoch 168/200\n",
      "212/212 [==============================] - 1s 4ms/step - loss: 0.4988 - acc: 0.7830 - val_loss: 0.5200 - val_acc: 0.7692\n",
      "Epoch 169/200\n",
      "212/212 [==============================] - 1s 4ms/step - loss: 0.4951 - acc: 0.7877 - val_loss: 0.5190 - val_acc: 0.7802\n",
      "Epoch 170/200\n",
      "212/212 [==============================] - 1s 4ms/step - loss: 0.4957 - acc: 0.7877 - val_loss: 0.5201 - val_acc: 0.7582\n",
      "Epoch 171/200\n",
      "212/212 [==============================] - 1s 4ms/step - loss: 0.5028 - acc: 0.7877 - val_loss: 0.5215 - val_acc: 0.7582\n",
      "Epoch 172/200\n",
      "212/212 [==============================] - 1s 4ms/step - loss: 0.4954 - acc: 0.7925 - val_loss: 0.5186 - val_acc: 0.7802\n",
      "Epoch 173/200\n",
      "212/212 [==============================] - 1s 4ms/step - loss: 0.4958 - acc: 0.7925 - val_loss: 0.5198 - val_acc: 0.7692\n",
      "Epoch 174/200\n",
      "212/212 [==============================] - 1s 4ms/step - loss: 0.4950 - acc: 0.8019 - val_loss: 0.5177 - val_acc: 0.7802\n",
      "Epoch 175/200\n",
      "212/212 [==============================] - 1s 4ms/step - loss: 0.4958 - acc: 0.7925 - val_loss: 0.5208 - val_acc: 0.7473\n",
      "Epoch 176/200\n",
      "212/212 [==============================] - 1s 4ms/step - loss: 0.4966 - acc: 0.7972 - val_loss: 0.5171 - val_acc: 0.7802\n",
      "Epoch 177/200\n",
      "212/212 [==============================] - 1s 4ms/step - loss: 0.4973 - acc: 0.7830 - val_loss: 0.5179 - val_acc: 0.7802\n",
      "Epoch 178/200\n",
      "212/212 [==============================] - 1s 4ms/step - loss: 0.4950 - acc: 0.7877 - val_loss: 0.5194 - val_acc: 0.7692\n",
      "Epoch 179/200\n",
      "212/212 [==============================] - 1s 5ms/step - loss: 0.4951 - acc: 0.7877 - val_loss: 0.5187 - val_acc: 0.7802\n",
      "Epoch 180/200\n",
      "212/212 [==============================] - 1s 4ms/step - loss: 0.4956 - acc: 0.7925 - val_loss: 0.5205 - val_acc: 0.7473\n",
      "Epoch 181/200\n",
      "212/212 [==============================] - 1s 4ms/step - loss: 0.4958 - acc: 0.7830 - val_loss: 0.5159 - val_acc: 0.7802\n",
      "Epoch 182/200\n",
      "212/212 [==============================] - 1s 5ms/step - loss: 0.4937 - acc: 0.8019 - val_loss: 0.5209 - val_acc: 0.7582\n",
      "Epoch 183/200\n",
      "212/212 [==============================] - 1s 5ms/step - loss: 0.4976 - acc: 0.7925 - val_loss: 0.5198 - val_acc: 0.7582\n",
      "Epoch 184/200\n",
      "212/212 [==============================] - 1s 4ms/step - loss: 0.4942 - acc: 0.7830 - val_loss: 0.5170 - val_acc: 0.7802\n",
      "Epoch 185/200\n",
      "212/212 [==============================] - 1s 5ms/step - loss: 0.4980 - acc: 0.7877 - val_loss: 0.5210 - val_acc: 0.7582\n",
      "Epoch 186/200\n",
      "212/212 [==============================] - 1s 4ms/step - loss: 0.4974 - acc: 0.7877 - val_loss: 0.5161 - val_acc: 0.7912\n",
      "Epoch 187/200\n",
      "212/212 [==============================] - 1s 4ms/step - loss: 0.4950 - acc: 0.7830 - val_loss: 0.5210 - val_acc: 0.7582\n",
      "Epoch 188/200\n",
      "212/212 [==============================] - 1s 4ms/step - loss: 0.4961 - acc: 0.7972 - val_loss: 0.5180 - val_acc: 0.7802\n",
      "Epoch 189/200\n",
      "212/212 [==============================] - 1s 5ms/step - loss: 0.4950 - acc: 0.7830 - val_loss: 0.5196 - val_acc: 0.7692\n",
      "Epoch 190/200\n",
      "212/212 [==============================] - 1s 4ms/step - loss: 0.4943 - acc: 0.7925 - val_loss: 0.5185 - val_acc: 0.7802\n",
      "Epoch 191/200\n",
      "212/212 [==============================] - 1s 4ms/step - loss: 0.4951 - acc: 0.7877 - val_loss: 0.5184 - val_acc: 0.7802\n",
      "Epoch 192/200\n",
      "212/212 [==============================] - 1s 4ms/step - loss: 0.4949 - acc: 0.7877 - val_loss: 0.5207 - val_acc: 0.7582\n",
      "Epoch 193/200\n",
      "212/212 [==============================] - 1s 5ms/step - loss: 0.4960 - acc: 0.7925 - val_loss: 0.5186 - val_acc: 0.7692\n",
      "Epoch 194/200\n",
      "212/212 [==============================] - 1s 5ms/step - loss: 0.4947 - acc: 0.7925 - val_loss: 0.5195 - val_acc: 0.7692\n",
      "Epoch 195/200\n",
      "212/212 [==============================] - 1s 4ms/step - loss: 0.5089 - acc: 0.7877 - val_loss: 0.5191 - val_acc: 0.7692\n",
      "Epoch 196/200\n",
      "212/212 [==============================] - 1s 4ms/step - loss: 0.4965 - acc: 0.7877 - val_loss: 0.5161 - val_acc: 0.7802\n",
      "Epoch 197/200\n",
      "212/212 [==============================] - 1s 4ms/step - loss: 0.4940 - acc: 0.7877 - val_loss: 0.5212 - val_acc: 0.7582\n",
      "Epoch 198/200\n",
      "212/212 [==============================] - 1s 4ms/step - loss: 0.4970 - acc: 0.7925 - val_loss: 0.5198 - val_acc: 0.7582\n",
      "Epoch 199/200\n",
      "212/212 [==============================] - 1s 4ms/step - loss: 0.4948 - acc: 0.7925 - val_loss: 0.5183 - val_acc: 0.7802\n",
      "Epoch 200/200\n",
      "212/212 [==============================] - 1s 4ms/step - loss: 0.4948 - acc: 0.7877 - val_loss: 0.5194 - val_acc: 0.7692\n"
     ]
    }
   ],
   "source": [
    "f=model.fit(xtrain,ytrain,epochs=200,batch_size=8,validation_data=(xtest,ytest))"
   ]
  },
  {
   "cell_type": "code",
   "execution_count": 108,
   "metadata": {},
   "outputs": [],
   "source": [
    "h=model.predict(xtest)"
   ]
  },
  {
   "cell_type": "code",
   "execution_count": 109,
   "metadata": {},
   "outputs": [
    {
     "name": "stdout",
     "output_type": "stream",
     "text": [
      "[0, 1, 0, 1, 0, 1, 1, 0, 0, 1, 0, 1, 0, 0, 1, 1, 1, 1, 1, 0, 0, 1, 1, 1, 0, 1, 0, 1, 0, 0, 0, 1, 0, 1, 1, 1, 1, 0, 1, 1, 1, 1, 1, 1, 1, 1, 0, 1, 1, 0, 0, 1, 0, 1, 1, 0, 0, 1, 0, 0, 1, 0, 0, 1, 0, 0, 1, 1, 1, 1, 1, 0, 0, 0, 1, 0, 0, 0, 1, 1, 1, 1, 0, 0, 0, 1, 0, 1, 0, 0, 1]\n"
     ]
    }
   ],
   "source": [
    "h=[round(x[0])for x in h]\n",
    "print (h)"
   ]
  },
  {
   "cell_type": "code",
   "execution_count": 110,
   "metadata": {},
   "outputs": [
    {
     "name": "stdout",
     "output_type": "stream",
     "text": [
      "91/91 [==============================] - 0s 607us/step\n"
     ]
    }
   ],
   "source": [
    "scores=model.evaluate(xtest,ytest)"
   ]
  },
  {
   "cell_type": "code",
   "execution_count": 111,
   "metadata": {},
   "outputs": [
    {
     "name": "stdout",
     "output_type": "stream",
     "text": [
      "212/212 [==============================] - 0s 286us/step\n"
     ]
    }
   ],
   "source": [
    "scores=model.evaluate(xtrain,ytrain)"
   ]
  },
  {
   "cell_type": "markdown",
   "metadata": {},
   "source": [
    "+ Calcular e interpretar las métricas obtenidas"
   ]
  },
  {
   "cell_type": "code",
   "execution_count": 112,
   "metadata": {},
   "outputs": [
    {
     "name": "stdout",
     "output_type": "stream",
     "text": [
      "el accuracy del modelo es: 0.7692307692307693\n"
     ]
    }
   ],
   "source": [
    "from sklearn.metrics import accuracy_score\n",
    "acc=accuracy_score(ytest,h)\n",
    "print(\"el accuracy del modelo es:\",acc)"
   ]
  },
  {
   "cell_type": "code",
   "execution_count": 113,
   "metadata": {},
   "outputs": [
    {
     "name": "stdout",
     "output_type": "stream",
     "text": [
      "MSE del modelo es:  0.23076923076923078\n"
     ]
    }
   ],
   "source": [
    "from sklearn.metrics import mean_squared_error\n",
    "mse=mean_squared_error(ytest,h)\n",
    "print(\"MSE del modelo es: \",mse)"
   ]
  },
  {
   "cell_type": "markdown",
   "metadata": {},
   "source": [
    "+ **Cambiar los valores para la simulación a fin de mejorar la precisión o disminuir el MSE. Justifique su respuesta mediante gráficas.**\n"
   ]
  },
  {
   "cell_type": "code",
   "execution_count": 52,
   "metadata": {},
   "outputs": [],
   "source": [
    "# Con 50 iteraciones \n",
    "# el accuracy del modelo es: 0.7142857142857143\n",
    "# MSE del modelo es:  0.2857142857142857"
   ]
  },
  {
   "cell_type": "markdown",
   "metadata": {},
   "source": [
    "+ Gráfica 50 iteraciones"
   ]
  },
  {
   "cell_type": "code",
   "execution_count": 55,
   "metadata": {},
   "outputs": [
    {
     "data": {
      "image/png": "[encoded data removed]",
      "text/plain": [
       "<Figure size 432x288 with 1 Axes>"
      ]
     },
     "metadata": {
      "needs_background": "light"
     },
     "output_type": "display_data"
    }
   ],
   "source": [
    "import matplotlib.pyplot as plt \n",
    "loss=f.history[\"loss\"]\n",
    "val_loss=f.history[\"val_loss\"]\n",
    "epochs=range(1,len(loss)+1)\n",
    "plt.plot(epochs,loss,'b*',label=\"Perdidas del conjunto de entrenamiento\")\n",
    "plt.plot(epochs,val_loss,'r',label=\"Perdidas del conjunto de Prueba\")\n",
    "plt.title(\"Perdidas de entrenamiento y prueba \")\n",
    "plt.xlabel(\"50 iteraciones\")\n",
    "plt.ylabel(\"Perdidas-Costo\")\n",
    "plt.legend()\n",
    "plt.show()"
   ]
  },
  {
   "cell_type": "code",
   "execution_count": null,
   "metadata": {},
   "outputs": [],
   "source": [
    "# Con 100 iteraciones \n",
    "# el accuracy del modelo es: 0.7252747252747253\n",
    "# MSE del modelo es:  0.27472527472527475"
   ]
  },
  {
   "cell_type": "markdown",
   "metadata": {},
   "source": [
    "+ Grafica con 100 iteraciones"
   ]
  },
  {
   "cell_type": "code",
   "execution_count": 64,
   "metadata": {},
   "outputs": [
    {
     "data": {
      "image/png": "[encoded data removed]",
      "text/plain": [
       "<Figure size 432x288 with 1 Axes>"
      ]
     },
     "metadata": {
      "needs_background": "light"
     },
     "output_type": "display_data"
    }
   ],
   "source": [
    "import matplotlib.pyplot as plt \n",
    "loss=f.history[\"loss\"]\n",
    "val_loss=f.history[\"val_loss\"]\n",
    "epochs=range(1,len(loss)+1)\n",
    "plt.plot(epochs,loss,'b*',label=\"Perdidas del conjunto de entrenamiento\")\n",
    "plt.plot(epochs,val_loss,'r',label=\"Perdidas del conjunto de Prueba\")\n",
    "plt.title(\"Perdidas de entrenamiento y prueba \")\n",
    "plt.xlabel(\"100 iteraciones\")\n",
    "plt.ylabel(\"Perdidas-Costo\")\n",
    "plt.legend()\n",
    "plt.show()"
   ]
  },
  {
   "cell_type": "code",
   "execution_count": null,
   "metadata": {},
   "outputs": [],
   "source": [
    "# Con 150 iteraciones \n",
    "# el accuracy del modelo es: 0.7912087912087912\n",
    "# MSE del modelo es:  0.2087912087912088"
   ]
  },
  {
   "cell_type": "markdown",
   "metadata": {},
   "source": [
    "+ Grafica con 150 iteraciones"
   ]
  },
  {
   "cell_type": "code",
   "execution_count": 72,
   "metadata": {},
   "outputs": [
    {
     "data": {
      "image/png": "[encoded data removed]",
      "text/plain": [
       "<Figure size 432x288 with 1 Axes>"
      ]
     },
     "metadata": {
      "needs_background": "light"
     },
     "output_type": "display_data"
    }
   ],
   "source": [
    "import matplotlib.pyplot as plt \n",
    "loss=f.history[\"loss\"]\n",
    "val_loss=f.history[\"val_loss\"]\n",
    "epochs=range(1,len(loss)+1)\n",
    "plt.plot(epochs,loss,'b*',label=\"Perdidas del conjunto de entrenamiento\")\n",
    "plt.plot(epochs,val_loss,'r',label=\"Perdidas del conjunto de Prueba\")\n",
    "plt.title(\"Perdidas de entrenamiento y prueba \")\n",
    "plt.xlabel(\"150 iteraciones\")\n",
    "plt.ylabel(\"Perdidas-Costo\")\n",
    "plt.legend()\n",
    "plt.show()"
   ]
  },
  {
   "cell_type": "code",
   "execution_count": 114,
   "metadata": {},
   "outputs": [],
   "source": [
    "# Con 200 iteraciones \n",
    "# el accuracy del modelo es: 0.7692307692307693\n",
    "# MSE del modelo es:  0.23076923076923078"
   ]
  },
  {
   "cell_type": "markdown",
   "metadata": {},
   "source": [
    "+ Grafica con 200 iteraciones"
   ]
  },
  {
   "cell_type": "code",
   "execution_count": 115,
   "metadata": {},
   "outputs": [
    {
     "data": {
      "image/png": "[encoded data removed]",
      "text/plain": [
       "<Figure size 432x288 with 1 Axes>"
      ]
     },
     "metadata": {
      "needs_background": "light"
     },
     "output_type": "display_data"
    }
   ],
   "source": [
    "import matplotlib.pyplot as plt \n",
    "loss=f.history[\"loss\"]\n",
    "val_loss=f.history[\"val_loss\"]\n",
    "epochs=range(1,len(loss)+1)\n",
    "plt.plot(epochs,loss,'b*',label=\"Perdidas del conjunto de entrenamiento\")\n",
    "plt.plot(epochs,val_loss,'r',label=\"Perdidas del conjunto de Prueba\")\n",
    "plt.title(\"Perdidas de entrenamiento y prueba \")\n",
    "plt.xlabel(\"200 iteraciones\")\n",
    "plt.ylabel(\"Perdidas-Costo\")\n",
    "plt.legend()\n",
    "plt.show()"
   ]
  },
  {
   "cell_type": "markdown",
   "metadata": {},
   "source": [
    "**Comparación**"
   ]
  },
  {
   "cell_type": "markdown",
   "metadata": {},
   "source": [
    "+ Realice una tabla comparativa de las métricas obtenidas con **Regresión Logística** y **Redes Neuronales**."
   ]
  },
  {
   "cell_type": "markdown",
   "metadata": {},
   "source": [
    "* | 50 Iteraciones | 100 Iteraciones | 150 Iteraciones | 200 Iteraciones| logistica\n",
    "--|--|--|--|--|--\n",
    "MSE| 0.2857142857142857 | 0.27472527472527475 | 0.2087912087912088 | 0.23076923076923078 | 0.23076923076923078\n",
    "Accuracy| 0.7142857142857143 | 0.7252747252747253 | 0.7912087912087912 | 0.7692307692307693 | 0.7692307692307693"
   ]
  },
  {
   "cell_type": "markdown",
   "metadata": {},
   "source": [
    "+ Determine cuál de los dos modelos tiene mejores prestaciones y justifique."
   ]
  },
  {
   "cell_type": "markdown",
   "metadata": {},
   "source": [
    "Como podemos observar en la tabla comparativa realizada de las métricas obtenidas en los modelos de **Regresión Logística** y **Redes Neuronales con 200 iteraciones**, se obtiene los mismos valores de MSE y accuracy, sin embargo a pesar que se obtienen resultados similares, **Redes Neuronales con 150 iteraciones** arrojó un accuracy más alto y disminuyo el MSE comparado con **Regresión Logística**, por tanto se puede concluir que **Redes Neuronales** es el modelo adecuado para el estudio y predicción."
   ]
  },
  {
   "cell_type": "code",
   "execution_count": null,
   "metadata": {},
   "outputs": [],
   "source": []
  }
 ],
 "metadata": {
  "kernelspec": {
   "display_name": "Python",
   "language": "python",
   "name": "conda-env-python-py"
  },
  "language_info": {
   "codemirror_mode": {
    "name": "ipython",
    "version": 3
   },
   "file_extension": ".py",
   "mimetype": "text/x-python",
   "name": "python",
   "nbconvert_exporter": "python",
   "pygments_lexer": "ipython3",
   "version": "3.6.12"
  }
 },
 "nbformat": 4,
 "nbformat_minor": 4
}
