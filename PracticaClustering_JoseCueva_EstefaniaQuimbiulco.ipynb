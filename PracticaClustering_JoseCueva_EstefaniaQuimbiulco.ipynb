{
 "cells": [
  {
   "cell_type": "markdown",
   "metadata": {},
   "source": [
    "# PRÁCTICA N°7"
   ]
  },
  {
   "cell_type": "markdown",
   "metadata": {},
   "source": [
    "##### **TEMA:** _CLUSTERING- APRENDIZAJE NO SUPERVISADO_"
   ]
  },
  {
   "cell_type": "markdown",
   "metadata": {},
   "source": [
    "##### **INTEGRANTES:** \n",
    "#####                 _José Cueva_\n",
    "#####                 _Estefanía Quimbiulco_"
   ]
  },
  {
   "cell_type": "markdown",
   "metadata": {},
   "source": [
    "**Objetivos**\n",
    "+ Analizar un dataset no etiquetado es decir sin variable de salida mediante\n",
    "algoritmos de aprendizaje no supervisado.\n",
    "+ Emplear Técnicas de Clustering o agrupamiento para clasificar los registros de\n",
    "un dataset no eteiquetado.\n",
    "+ Familiarizarse con el uso de phyton para realizar el análisis de un dataset\n",
    "aplicando las librerías de modelado de datos.\n",
    "\n"
   ]
  },
  {
   "cell_type": "code",
   "execution_count": 1,
   "metadata": {},
   "outputs": [],
   "source": [
    "import pandas as pd"
   ]
  },
  {
   "cell_type": "code",
   "execution_count": 2,
   "metadata": {},
   "outputs": [],
   "source": [
    "path=\"EstacionesClimaticas.csv\""
   ]
  },
  {
   "cell_type": "code",
   "execution_count": 3,
   "metadata": {},
   "outputs": [],
   "source": [
    "df=pd.read_csv(path)"
   ]
  },
  {
   "cell_type": "markdown",
   "metadata": {},
   "source": [
    "**1. Análisis general y limpieza del dataset:**\n"
   ]
  },
  {
   "cell_type": "markdown",
   "metadata": {},
   "source": [
    "Determinar el **tamaño** del dataset (Número de Registros y número de variables)."
   ]
  },
  {
   "cell_type": "code",
   "execution_count": 4,
   "metadata": {},
   "outputs": [
    {
     "data": {
      "text/plain": [
       "(1189, 15)"
      ]
     },
     "execution_count": 4,
     "metadata": {},
     "output_type": "execute_result"
    }
   ],
   "source": [
    "df.shape\n",
    "# 1189 registros y 15 variables"
   ]
  },
  {
   "cell_type": "markdown",
   "metadata": {},
   "source": [
    "Determinar el **tipo de dato** de cada una de las variables del dataset."
   ]
  },
  {
   "cell_type": "code",
   "execution_count": 5,
   "metadata": {},
   "outputs": [
    {
     "data": {
      "text/plain": [
       "Unnamed: 0                   int64\n",
       "Nombre_Estacion             object\n",
       "Latitud                    float64\n",
       "Longitud                   float64\n",
       "Temperatura-Media          float64\n",
       "Periodo-STM                float64\n",
       "Temperatura-Mensual-Max    float64\n",
       "Periodo-STMV               float64\n",
       "Temperatura-Mensual-Min    float64\n",
       "Periodo-STmV               float64\n",
       "Periodo-no-Nevado          float64\n",
       "Precipitación-Total        float64\n",
       "Periodo-SPV                float64\n",
       "Nivel-Nieve                float64\n",
       "Estacion-num                object\n",
       "dtype: object"
      ]
     },
     "execution_count": 5,
     "metadata": {},
     "output_type": "execute_result"
    }
   ],
   "source": [
    "df.dtypes"
   ]
  },
  {
   "cell_type": "markdown",
   "metadata": {},
   "source": [
    "Verificar si existen **datos faltantes** en el dataset. "
   ]
  },
  {
   "cell_type": "code",
   "execution_count": 6,
   "metadata": {},
   "outputs": [],
   "source": [
    "import numpy as np"
   ]
  },
  {
   "cell_type": "code",
   "execution_count": 7,
   "metadata": {},
   "outputs": [
    {
     "name": "stdout",
     "output_type": "stream",
     "text": [
      "Unnamed: 0\n",
      "False    1189\n",
      "Name: Unnamed: 0, dtype: int64\n",
      "\n",
      "Nombre_Estacion\n",
      "False    1189\n",
      "Name: Nombre_Estacion, dtype: int64\n",
      "\n",
      "Latitud\n",
      "False    1189\n",
      "Name: Latitud, dtype: int64\n",
      "\n",
      "Longitud\n",
      "False    1189\n",
      "Name: Longitud, dtype: int64\n",
      "\n",
      "Temperatura-Media\n",
      "False    1189\n",
      "Name: Temperatura-Media, dtype: int64\n",
      "\n",
      "Periodo-STM\n",
      "False    1189\n",
      "Name: Periodo-STM, dtype: int64\n",
      "\n",
      "Temperatura-Mensual-Max\n",
      "False    1189\n",
      "Name: Temperatura-Mensual-Max, dtype: int64\n",
      "\n",
      "Periodo-STMV\n",
      "False    1189\n",
      "Name: Periodo-STMV, dtype: int64\n",
      "\n",
      "Temperatura-Mensual-Min\n",
      "False    1188\n",
      "True        1\n",
      "Name: Temperatura-Mensual-Min, dtype: int64\n",
      "\n",
      "Periodo-STmV\n",
      "False    1188\n",
      "True        1\n",
      "Name: Periodo-STmV, dtype: int64\n",
      "\n",
      "Periodo-no-Nevado\n",
      "True     687\n",
      "False    502\n",
      "Name: Periodo-no-Nevado, dtype: int64\n",
      "\n",
      "Precipitación-Total\n",
      "False    1099\n",
      "True       90\n",
      "Name: Precipitación-Total, dtype: int64\n",
      "\n",
      "Periodo-SPV\n",
      "False    1099\n",
      "True       90\n",
      "Name: Periodo-SPV, dtype: int64\n",
      "\n",
      "Nivel-Nieve\n",
      "False    702\n",
      "True     487\n",
      "Name: Nivel-Nieve, dtype: int64\n",
      "\n",
      "Estacion-num\n",
      "False    1189\n",
      "Name: Estacion-num, dtype: int64\n",
      "\n"
     ]
    }
   ],
   "source": [
    "datos_faltantes=df.isnull()\n",
    "for column in datos_faltantes.columns.values.tolist():\n",
    "    print(column)\n",
    "    print(datos_faltantes[column].value_counts())\n",
    "    print(\"\")"
   ]
  },
  {
   "cell_type": "markdown",
   "metadata": {},
   "source": [
    "Tratar los **datos faltantes**, es decir reemplazar con algún valor común o\n",
    "eliminar los registros que presenten celdas con datos faltantes. Justificar el\n",
    "procedimiento seleccionado."
   ]
  },
  {
   "cell_type": "code",
   "execution_count": 8,
   "metadata": {},
   "outputs": [],
   "source": [
    "media1=df[\"Temperatura-Mensual-Min\"].mean()\n",
    "media2=df[\"Periodo-STmV\"].mean()\n",
    "media3=df[\"Periodo-no-Nevado\"].mean()\n",
    "media4=df[\"Precipitación-Total\"].mean()\n",
    "media5=df[\"Periodo-SPV\"].mean()\n",
    "media6=df[\"Nivel-Nieve\"].mean()"
   ]
  },
  {
   "cell_type": "code",
   "execution_count": 9,
   "metadata": {},
   "outputs": [],
   "source": [
    "df[\"Temperatura-Mensual-Min\"]=df[\"Temperatura-Mensual-Min\"].replace(np.NaN,media1)\n",
    "df[\"Periodo-STmV\"]=df[\"Periodo-STmV\"].replace(np.NaN,media2)\n",
    "df[\"Periodo-no-Nevado\"]=df[\"Periodo-no-Nevado\"].replace(np.NaN,media3)\n",
    "df[\"Precipitación-Total\"]=df[\"Precipitación-Total\"].replace(np.NaN,media4)\n",
    "df[\"Periodo-SPV\"]=df[\"Periodo-SPV\"].replace(np.NaN,media5)\n",
    "df[\"Nivel-Nieve\"]=df[\"Nivel-Nieve\"].replace(np.NaN,media6)"
   ]
  },
  {
   "cell_type": "code",
   "execution_count": 11,
   "metadata": {},
   "outputs": [],
   "source": [
    "#Reemplazamos los datos faltantes por la media, debido a que si se elimina los registros , se elimina más del 50% del dataset, \n",
    "#lo cual no sería factible, ya que se perderían registros importantes de nuestro conjuntos de datos."
   ]
  },
  {
   "cell_type": "markdown",
   "metadata": {},
   "source": [
    "Modificar el **tipo de dato** de las variables de entrada que considere necesario.\n",
    "Justificar el cambio."
   ]
  },
  {
   "cell_type": "code",
   "execution_count": 12,
   "metadata": {},
   "outputs": [],
   "source": [
    "#No se necesita cambiar el tipo de dato, ya que sus datos tienen float en valores numéricos y object en string"
   ]
  },
  {
   "cell_type": "markdown",
   "metadata": {},
   "source": [
    "Verificar nuevamente el **tamaño** del dataset después de la fase de análisis y\n",
    "limpieza\n"
   ]
  },
  {
   "cell_type": "code",
   "execution_count": 13,
   "metadata": {},
   "outputs": [
    {
     "data": {
      "text/plain": [
       "(1189, 15)"
      ]
     },
     "execution_count": 13,
     "metadata": {},
     "output_type": "execute_result"
    }
   ],
   "source": [
    "df.shape\n",
    "#Nuestro dataset sigue presentando 1189 registros con 15 variables."
   ]
  },
  {
   "cell_type": "markdown",
   "metadata": {},
   "source": [
    "**2. Selección de datos:**\n"
   ]
  },
  {
   "cell_type": "markdown",
   "metadata": {},
   "source": [
    "Analice las variables de entrada del dataset y seleccione las que considere\n",
    "apropiadas para definir la variable x. Justifique su respuesta."
   ]
  },
  {
   "cell_type": "code",
   "execution_count": 108,
   "metadata": {},
   "outputs": [],
   "source": [
    "#x=df[[\"Latitud\",\"Longitud\",\"Temperatura-Media\",\"Periodo-STM\",\"Temperatura-Mensual-Max\",\"Periodo-STMV\",\"Temperatura-Mensual-Min\",\"Periodo-STmV\",\"Periodo-no-Nevado\",\"Precipitación-Total\",\"Periodo-SPV\",\"Nivel-Nieve\"]]\n",
    "x=df[[\"Latitud\",\"Longitud\",\"Temperatura-Media\",\"Precipitación-Total\"]]"
   ]
  },
  {
   "cell_type": "code",
   "execution_count": 109,
   "metadata": {},
   "outputs": [
    {
     "data": {
      "text/html": [
       "<div>\n",
       "<style scoped>\n",
       "    .dataframe tbody tr th:only-of-type {\n",
       "        vertical-align: middle;\n",
       "    }\n",
       "\n",
       "    .dataframe tbody tr th {\n",
       "        vertical-align: top;\n",
       "    }\n",
       "\n",
       "    .dataframe thead th {\n",
       "        text-align: right;\n",
       "    }\n",
       "</style>\n",
       "<table border=\"1\" class=\"dataframe\">\n",
       "  <thead>\n",
       "    <tr style=\"text-align: right;\">\n",
       "      <th></th>\n",
       "      <th>Latitud</th>\n",
       "      <th>Longitud</th>\n",
       "      <th>Temperatura-Media</th>\n",
       "      <th>Precipitación-Total</th>\n",
       "    </tr>\n",
       "  </thead>\n",
       "  <tbody>\n",
       "    <tr>\n",
       "      <th>0</th>\n",
       "      <td>48.935</td>\n",
       "      <td>-123.742</td>\n",
       "      <td>8.2</td>\n",
       "      <td>178.8</td>\n",
       "    </tr>\n",
       "    <tr>\n",
       "      <th>1</th>\n",
       "      <td>48.824</td>\n",
       "      <td>-124.133</td>\n",
       "      <td>7.0</td>\n",
       "      <td>258.6</td>\n",
       "    </tr>\n",
       "    <tr>\n",
       "      <th>2</th>\n",
       "      <td>48.829</td>\n",
       "      <td>-124.052</td>\n",
       "      <td>6.8</td>\n",
       "      <td>264.6</td>\n",
       "    </tr>\n",
       "    <tr>\n",
       "      <th>3</th>\n",
       "      <td>48.735</td>\n",
       "      <td>-123.728</td>\n",
       "      <td>7.7</td>\n",
       "      <td>168.4</td>\n",
       "    </tr>\n",
       "    <tr>\n",
       "      <th>4</th>\n",
       "      <td>48.432</td>\n",
       "      <td>-123.439</td>\n",
       "      <td>8.8</td>\n",
       "      <td>81.0</td>\n",
       "    </tr>\n",
       "  </tbody>\n",
       "</table>\n",
       "</div>"
      ],
      "text/plain": [
       "   Latitud  Longitud  Temperatura-Media  Precipitación-Total\n",
       "0   48.935  -123.742                8.2                178.8\n",
       "1   48.824  -124.133                7.0                258.6\n",
       "2   48.829  -124.052                6.8                264.6\n",
       "3   48.735  -123.728                7.7                168.4\n",
       "4   48.432  -123.439                8.8                 81.0"
      ]
     },
     "execution_count": 109,
     "metadata": {},
     "output_type": "execute_result"
    }
   ],
   "source": [
    "x[0:5]\n",
    "#Hemos ocupado todas las variables float de tempetura,periodo y precipitación de nuestro dataset, ya que consideramos que estos son los\n",
    "#parámetros prinpipales  de una estacion meterologica."
   ]
  },
  {
   "cell_type": "markdown",
   "metadata": {},
   "source": [
    "Normalice los datos de la variable x, empleando cualquiera de los métodos\n",
    "revisados en clase.\n"
   ]
  },
  {
   "cell_type": "code",
   "execution_count": 110,
   "metadata": {},
   "outputs": [],
   "source": [
    "#Normalizar para que todas las variables den el mismo aporte al algoritmo\n",
    "from sklearn.preprocessing import StandardScaler\n",
    "x=np.nan_to_num(x)\n",
    "x=StandardScaler().fit_transform(x)"
   ]
  },
  {
   "cell_type": "code",
   "execution_count": 111,
   "metadata": {},
   "outputs": [
    {
     "data": {
      "text/plain": [
       "array([[-0.30440651, -1.16833902,  1.96990536,  2.08000987],\n",
       "       [-0.32968379, -1.18518021,  1.84754897,  3.38792597],\n",
       "       [-0.32854517, -1.18169137,  1.82715623,  3.48626553],\n",
       "       [-0.34995115, -1.16773601,  1.91892353,  1.90955464],\n",
       "       [-0.41895127, -1.15528818,  2.03108356,  0.4770751 ]])"
      ]
     },
     "execution_count": 111,
     "metadata": {},
     "output_type": "execute_result"
    }
   ],
   "source": [
    "x[0:5]"
   ]
  },
  {
   "cell_type": "markdown",
   "metadata": {},
   "source": [
    "**3.  Clustering-Agrupamiento**"
   ]
  },
  {
   "cell_type": "markdown",
   "metadata": {},
   "source": [
    "Aplique la Técnica de clustering más apropiado para agrupar los registros del\n",
    "dataset analizado. Justifique su respuesta."
   ]
  },
  {
   "cell_type": "code",
   "execution_count": 112,
   "metadata": {},
   "outputs": [],
   "source": [
    "#la técnica de clustering más apropiado para este dataset es el DBSCAN, ya que nuestro dataset tiene datos geográficos, datos espaciales,\n",
    "#ya que se registra todas las medidas que dan las estaciones climaticas ubicadas en distintos puntos geográficos en un país.\n",
    "#DBSCAN es ideal ya que el agrupamiento se basa en densidad y al basarse en densidad los clusters se van agrupando de acuerdo a la \n",
    "#densidad de registros y a la vez eliminando datos atípicos."
   ]
  },
  {
   "cell_type": "markdown",
   "metadata": {},
   "source": [
    "Obtenga el modelo de clasificación con los métodos apropiados de acuerdo a\n",
    "la técnica seleccionada.\n"
   ]
  },
  {
   "cell_type": "code",
   "execution_count": 113,
   "metadata": {},
   "outputs": [],
   "source": [
    "from sklearn.cluster import DBSCAN"
   ]
  },
  {
   "cell_type": "code",
   "execution_count": 122,
   "metadata": {},
   "outputs": [
    {
     "data": {
      "text/plain": [
       "DBSCAN(algorithm='auto', eps=0.4, leaf_size=30, metric='euclidean',\n",
       "    metric_params=None, min_samples=7, n_jobs=None, p=None)"
      ]
     },
     "execution_count": 122,
     "metadata": {},
     "output_type": "execute_result"
    }
   ],
   "source": [
    "# Definimos los parametros de DBSCAN\n",
    "radio=0.4\n",
    "M=7\n",
    "#Crear un objeto de DBSCAN\n",
    "#eps=epsilon=radio\n",
    "#min_samples=M\n",
    "db=DBSCAN(eps=radio,min_samples=M)\n",
    "#ajustar o entrenar\n",
    "db.fit(x)"
   ]
  },
  {
   "cell_type": "code",
   "execution_count": 123,
   "metadata": {},
   "outputs": [
    {
     "name": "stdout",
     "output_type": "stream",
     "text": [
      "[ 0  1  1 ... -1 -1 -1]\n"
     ]
    }
   ],
   "source": [
    "#Visualizar las etiquetas = resultado de la clasificacion\n",
    "etiquetas = db.labels_\n",
    "print(etiquetas)"
   ]
  },
  {
   "cell_type": "markdown",
   "metadata": {},
   "source": [
    "Realice una gráfica que permita visualizar el resultado de la agrupación, o\n",
    "clustering seleccionado.\n"
   ]
  },
  {
   "cell_type": "code",
   "execution_count": 124,
   "metadata": {},
   "outputs": [],
   "source": [
    "#Crear una matriz booleana\n",
    "#m al inicio es una matriz de ceros\n",
    "m=np.zeros_like(db.labels_,dtype=bool)"
   ]
  },
  {
   "cell_type": "code",
   "execution_count": 125,
   "metadata": {},
   "outputs": [],
   "source": [
    "#Recuperar las posiciones /indices de los puntos_centrales para asignarles TRUE\n",
    "m[db.core_sample_indices_]=True"
   ]
  },
  {
   "cell_type": "code",
   "execution_count": 126,
   "metadata": {},
   "outputs": [
    {
     "data": {
      "text/plain": [
       "{-1, 0, 1, 2, 3, 4}"
      ]
     },
     "execution_count": 126,
     "metadata": {},
     "output_type": "execute_result"
    }
   ],
   "source": [
    "valores_etiquetas=set(etiquetas)\n",
    "valores_etiquetas"
   ]
  },
  {
   "cell_type": "code",
   "execution_count": 127,
   "metadata": {},
   "outputs": [],
   "source": [
    "import matplotlib.pyplot as plt"
   ]
  },
  {
   "cell_type": "code",
   "execution_count": 128,
   "metadata": {},
   "outputs": [],
   "source": [
    "colores=plt.cm.Spectral(np.linspace(0,1,len(valores_etiquetas)))"
   ]
  },
  {
   "cell_type": "code",
   "execution_count": 129,
   "metadata": {},
   "outputs": [
    {
     "data": {
      "image/png": "[encoded data removed]",
      "text/plain": [
       "<Figure size 432x288 with 1 Axes>"
      ]
     },
     "metadata": {
      "needs_background": "light"
     },
     "output_type": "display_data"
    }
   ],
   "source": [
    "for i, col in zip(valores_etiquetas, colores):\n",
    "    #Condicion para detectar valores atipicos\n",
    "    if i==-1:\n",
    "        col=\"k\"\n",
    "    puntos=(etiquetas==i)\n",
    "    #Graficar puntos clasificados dentro del cluster\n",
    "    pc=x[puntos&m]\n",
    "    plt.scatter(pc[:,0],pc[:,1],s=50,c=[col],marker=\"o\",alpha=0.5)\n",
    "    #Graficar puntos atipicos\n",
    "    pa=x[puntos&~m]\n",
    "    plt.scatter(pa[:,0],pa[:,1],s=50,c=[col],marker=\"o\",alpha=0.5)"
   ]
  },
  {
   "cell_type": "markdown",
   "metadata": {},
   "source": [
    "Muestre el resultado de la clasificación añadiendo las etiquetas asignadas a los\n",
    "registros en el dataset.\n"
   ]
  },
  {
   "cell_type": "code",
   "execution_count": 130,
   "metadata": {},
   "outputs": [],
   "source": [
    "# Una forma de concatenar"
   ]
  },
  {
   "cell_type": "code",
   "execution_count": 131,
   "metadata": {},
   "outputs": [],
   "source": [
    "y=etiquetas.reshape(-1,1) #pasar de forma de fila a columna"
   ]
  },
  {
   "cell_type": "code",
   "execution_count": 132,
   "metadata": {},
   "outputs": [],
   "source": [
    "resultado=np.append(x,y,axis=1)#le une a manera de columna"
   ]
  },
  {
   "cell_type": "code",
   "execution_count": 133,
   "metadata": {},
   "outputs": [
    {
     "data": {
      "text/plain": [
       "array([[-0.30440651, -1.16833902,  1.96990536,  2.08000987,  0.        ],\n",
       "       [-0.32968379, -1.18518021,  1.84754897,  3.38792597,  1.        ],\n",
       "       [-0.32854517, -1.18169137,  1.82715623,  3.48626553,  1.        ],\n",
       "       [-0.34995115, -1.16773601,  1.91892353,  1.90955464,  0.        ],\n",
       "       [-0.41895127, -1.15528818,  2.03108356,  0.4770751 ,  0.        ]])"
      ]
     },
     "execution_count": 133,
     "metadata": {},
     "output_type": "execute_result"
    }
   ],
   "source": [
    "resultado[0:5]"
   ]
  },
  {
   "cell_type": "code",
   "execution_count": 134,
   "metadata": {},
   "outputs": [
    {
     "data": {
      "text/html": [
       "<div>\n",
       "<style scoped>\n",
       "    .dataframe tbody tr th:only-of-type {\n",
       "        vertical-align: middle;\n",
       "    }\n",
       "\n",
       "    .dataframe tbody tr th {\n",
       "        vertical-align: top;\n",
       "    }\n",
       "\n",
       "    .dataframe thead th {\n",
       "        text-align: right;\n",
       "    }\n",
       "</style>\n",
       "<table border=\"1\" class=\"dataframe\">\n",
       "  <thead>\n",
       "    <tr style=\"text-align: right;\">\n",
       "      <th></th>\n",
       "      <th>0</th>\n",
       "      <th>1</th>\n",
       "      <th>2</th>\n",
       "      <th>3</th>\n",
       "      <th>4</th>\n",
       "    </tr>\n",
       "  </thead>\n",
       "  <tbody>\n",
       "    <tr>\n",
       "      <th>0</th>\n",
       "      <td>-0.304407</td>\n",
       "      <td>-1.168339</td>\n",
       "      <td>1.969905</td>\n",
       "      <td>2.080010</td>\n",
       "      <td>0.0</td>\n",
       "    </tr>\n",
       "    <tr>\n",
       "      <th>1</th>\n",
       "      <td>-0.329684</td>\n",
       "      <td>-1.185180</td>\n",
       "      <td>1.847549</td>\n",
       "      <td>3.387926</td>\n",
       "      <td>1.0</td>\n",
       "    </tr>\n",
       "    <tr>\n",
       "      <th>2</th>\n",
       "      <td>-0.328545</td>\n",
       "      <td>-1.181691</td>\n",
       "      <td>1.827156</td>\n",
       "      <td>3.486266</td>\n",
       "      <td>1.0</td>\n",
       "    </tr>\n",
       "    <tr>\n",
       "      <th>3</th>\n",
       "      <td>-0.349951</td>\n",
       "      <td>-1.167736</td>\n",
       "      <td>1.918924</td>\n",
       "      <td>1.909555</td>\n",
       "      <td>0.0</td>\n",
       "    </tr>\n",
       "    <tr>\n",
       "      <th>4</th>\n",
       "      <td>-0.418951</td>\n",
       "      <td>-1.155288</td>\n",
       "      <td>2.031084</td>\n",
       "      <td>0.477075</td>\n",
       "      <td>0.0</td>\n",
       "    </tr>\n",
       "  </tbody>\n",
       "</table>\n",
       "</div>"
      ],
      "text/plain": [
       "          0         1         2         3    4\n",
       "0 -0.304407 -1.168339  1.969905  2.080010  0.0\n",
       "1 -0.329684 -1.185180  1.847549  3.387926  1.0\n",
       "2 -0.328545 -1.181691  1.827156  3.486266  1.0\n",
       "3 -0.349951 -1.167736  1.918924  1.909555  0.0\n",
       "4 -0.418951 -1.155288  2.031084  0.477075  0.0"
      ]
     },
     "execution_count": 134,
     "metadata": {},
     "output_type": "execute_result"
    }
   ],
   "source": [
    "df1=pd.DataFrame(resultado)\n",
    "df1.head()"
   ]
  },
  {
   "cell_type": "code",
   "execution_count": 135,
   "metadata": {},
   "outputs": [],
   "source": [
    "# -1 identifica que es un valor atípico"
   ]
  },
  {
   "cell_type": "code",
   "execution_count": 136,
   "metadata": {},
   "outputs": [],
   "source": [
    "#Otra forma de concatenar"
   ]
  },
  {
   "cell_type": "code",
   "execution_count": 137,
   "metadata": {},
   "outputs": [
    {
     "data": {
      "text/html": [
       "<div>\n",
       "<style scoped>\n",
       "    .dataframe tbody tr th:only-of-type {\n",
       "        vertical-align: middle;\n",
       "    }\n",
       "\n",
       "    .dataframe tbody tr th {\n",
       "        vertical-align: top;\n",
       "    }\n",
       "\n",
       "    .dataframe thead th {\n",
       "        text-align: right;\n",
       "    }\n",
       "</style>\n",
       "<table border=\"1\" class=\"dataframe\">\n",
       "  <thead>\n",
       "    <tr style=\"text-align: right;\">\n",
       "      <th></th>\n",
       "      <th>Unnamed: 0</th>\n",
       "      <th>Nombre_Estacion</th>\n",
       "      <th>Latitud</th>\n",
       "      <th>Longitud</th>\n",
       "      <th>Temperatura-Media</th>\n",
       "      <th>Periodo-STM</th>\n",
       "      <th>Temperatura-Mensual-Max</th>\n",
       "      <th>Periodo-STMV</th>\n",
       "      <th>Temperatura-Mensual-Min</th>\n",
       "      <th>Periodo-STmV</th>\n",
       "      <th>Periodo-no-Nevado</th>\n",
       "      <th>Precipitación-Total</th>\n",
       "      <th>Periodo-SPV</th>\n",
       "      <th>Nivel-Nieve</th>\n",
       "      <th>Estacion-num</th>\n",
       "      <th>cluster</th>\n",
       "    </tr>\n",
       "  </thead>\n",
       "  <tbody>\n",
       "    <tr>\n",
       "      <th>0</th>\n",
       "      <td>0</td>\n",
       "      <td>CHEMAINUS</td>\n",
       "      <td>48.935</td>\n",
       "      <td>-123.742</td>\n",
       "      <td>8.2</td>\n",
       "      <td>0.0</td>\n",
       "      <td>13.5</td>\n",
       "      <td>0.0</td>\n",
       "      <td>1.0</td>\n",
       "      <td>0.0</td>\n",
       "      <td>0.000000</td>\n",
       "      <td>178.8</td>\n",
       "      <td>0.0</td>\n",
       "      <td>0.000000</td>\n",
       "      <td>1011500</td>\n",
       "      <td>0</td>\n",
       "    </tr>\n",
       "    <tr>\n",
       "      <th>1</th>\n",
       "      <td>1</td>\n",
       "      <td>COWICHAN LAKE FORESTRY</td>\n",
       "      <td>48.824</td>\n",
       "      <td>-124.133</td>\n",
       "      <td>7.0</td>\n",
       "      <td>0.0</td>\n",
       "      <td>15.0</td>\n",
       "      <td>0.0</td>\n",
       "      <td>-3.0</td>\n",
       "      <td>0.0</td>\n",
       "      <td>0.000000</td>\n",
       "      <td>258.6</td>\n",
       "      <td>0.0</td>\n",
       "      <td>0.000000</td>\n",
       "      <td>1012040</td>\n",
       "      <td>1</td>\n",
       "    </tr>\n",
       "    <tr>\n",
       "      <th>2</th>\n",
       "      <td>2</td>\n",
       "      <td>LAKE COWICHAN</td>\n",
       "      <td>48.829</td>\n",
       "      <td>-124.052</td>\n",
       "      <td>6.8</td>\n",
       "      <td>13.0</td>\n",
       "      <td>16.0</td>\n",
       "      <td>9.0</td>\n",
       "      <td>-2.5</td>\n",
       "      <td>9.0</td>\n",
       "      <td>9.000000</td>\n",
       "      <td>264.6</td>\n",
       "      <td>9.0</td>\n",
       "      <td>30.512821</td>\n",
       "      <td>1012055</td>\n",
       "      <td>1</td>\n",
       "    </tr>\n",
       "    <tr>\n",
       "      <th>3</th>\n",
       "      <td>3</td>\n",
       "      <td>DUNCAN KELVIN CREEK</td>\n",
       "      <td>48.735</td>\n",
       "      <td>-123.728</td>\n",
       "      <td>7.7</td>\n",
       "      <td>2.0</td>\n",
       "      <td>14.5</td>\n",
       "      <td>2.0</td>\n",
       "      <td>-1.0</td>\n",
       "      <td>2.0</td>\n",
       "      <td>2.000000</td>\n",
       "      <td>168.4</td>\n",
       "      <td>2.0</td>\n",
       "      <td>30.512821</td>\n",
       "      <td>1012573</td>\n",
       "      <td>0</td>\n",
       "    </tr>\n",
       "    <tr>\n",
       "      <th>4</th>\n",
       "      <td>4</td>\n",
       "      <td>ESQUIMALT HARBOUR</td>\n",
       "      <td>48.432</td>\n",
       "      <td>-123.439</td>\n",
       "      <td>8.8</td>\n",
       "      <td>0.0</td>\n",
       "      <td>13.1</td>\n",
       "      <td>0.0</td>\n",
       "      <td>1.9</td>\n",
       "      <td>0.0</td>\n",
       "      <td>2.366534</td>\n",
       "      <td>81.0</td>\n",
       "      <td>8.0</td>\n",
       "      <td>30.512821</td>\n",
       "      <td>1012710</td>\n",
       "      <td>0</td>\n",
       "    </tr>\n",
       "  </tbody>\n",
       "</table>\n",
       "</div>"
      ],
      "text/plain": [
       "   Unnamed: 0         Nombre_Estacion  Latitud  Longitud  Temperatura-Media  \\\n",
       "0           0               CHEMAINUS   48.935  -123.742                8.2   \n",
       "1           1  COWICHAN LAKE FORESTRY   48.824  -124.133                7.0   \n",
       "2           2           LAKE COWICHAN   48.829  -124.052                6.8   \n",
       "3           3     DUNCAN KELVIN CREEK   48.735  -123.728                7.7   \n",
       "4           4       ESQUIMALT HARBOUR   48.432  -123.439                8.8   \n",
       "\n",
       "   Periodo-STM  Temperatura-Mensual-Max  Periodo-STMV  \\\n",
       "0          0.0                     13.5           0.0   \n",
       "1          0.0                     15.0           0.0   \n",
       "2         13.0                     16.0           9.0   \n",
       "3          2.0                     14.5           2.0   \n",
       "4          0.0                     13.1           0.0   \n",
       "\n",
       "   Temperatura-Mensual-Min  Periodo-STmV  Periodo-no-Nevado  \\\n",
       "0                      1.0           0.0           0.000000   \n",
       "1                     -3.0           0.0           0.000000   \n",
       "2                     -2.5           9.0           9.000000   \n",
       "3                     -1.0           2.0           2.000000   \n",
       "4                      1.9           0.0           2.366534   \n",
       "\n",
       "   Precipitación-Total  Periodo-SPV  Nivel-Nieve Estacion-num  cluster  \n",
       "0                178.8          0.0     0.000000      1011500        0  \n",
       "1                258.6          0.0     0.000000      1012040        1  \n",
       "2                264.6          9.0    30.512821      1012055        1  \n",
       "3                168.4          2.0    30.512821      1012573        0  \n",
       "4                 81.0          8.0    30.512821      1012710        0  "
      ]
     },
     "execution_count": 137,
     "metadata": {},
     "output_type": "execute_result"
    }
   ],
   "source": [
    "df[\"cluster\"]=etiquetas\n",
    "df.head()"
   ]
  }
 ],
 "metadata": {
  "kernelspec": {
   "display_name": "Python",
   "language": "python",
   "name": "conda-env-python-py"
  },
  "language_info": {
   "codemirror_mode": {
    "name": "ipython",
    "version": 3
   },
   "file_extension": ".py",
   "mimetype": "text/x-python",
   "name": "python",
   "nbconvert_exporter": "python",
   "pygments_lexer": "ipython3",
   "version": "3.6.12"
  }
 },
 "nbformat": 4,
 "nbformat_minor": 4
}
