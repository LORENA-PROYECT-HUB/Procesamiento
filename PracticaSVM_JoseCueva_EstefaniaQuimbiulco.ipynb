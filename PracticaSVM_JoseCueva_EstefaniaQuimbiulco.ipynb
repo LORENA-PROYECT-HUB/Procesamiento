{
 "cells": [
  {
   "cell_type": "markdown",
   "metadata": {},
   "source": [
    "#### **TEMA:**SVM (SUPPORT VECTOR MACHINE)"
   ]
  },
  {
   "cell_type": "markdown",
   "metadata": {},
   "source": [
    "##### **INTEGRANTES:** \n",
    "#####                 _José Cueva_\n",
    "#####                 _Estefanía Quimbiulco_"
   ]
  },
  {
   "cell_type": "markdown",
   "metadata": {},
   "source": [
    "**Objetivos:**\n",
    "+ Implementar SVM utilizando las librerias de python\n",
    "+ Usar scikit-learn para clasificar instancias mediante SVM\n",
    "+ Crear un modelo de clasificación y evaluar utilizando métricas apropiadas"
   ]
  },
  {
   "cell_type": "code",
   "execution_count": 3,
   "metadata": {},
   "outputs": [
    {
     "name": "stdout",
     "output_type": "stream",
     "text": [
      "Requirement already satisfied: scikit-learn==0.23.1 in /home/jupyterlab/conda/envs/python/lib/python3.6/site-packages (0.23.1)\n",
      "Requirement already satisfied: threadpoolctl>=2.0.0 in /home/jupyterlab/conda/envs/python/lib/python3.6/site-packages (from scikit-learn==0.23.1) (2.1.0)\n",
      "Requirement already satisfied: scipy>=0.19.1 in /home/jupyterlab/conda/envs/python/lib/python3.6/site-packages (from scikit-learn==0.23.1) (1.5.4)\n",
      "Requirement already satisfied: numpy>=1.13.3 in /home/jupyterlab/conda/envs/python/lib/python3.6/site-packages (from scikit-learn==0.23.1) (1.19.4)\n",
      "Requirement already satisfied: joblib>=0.11 in /home/jupyterlab/conda/envs/python/lib/python3.6/site-packages (from scikit-learn==0.23.1) (1.0.0)\n"
     ]
    }
   ],
   "source": [
    "# Importar librerias\n",
    "!pip install scikit-learn==0.23.1"
   ]
  },
  {
   "cell_type": "code",
   "execution_count": 4,
   "metadata": {},
   "outputs": [],
   "source": [
    "import pandas as pd\n",
    "import numpy as np\n",
    "from sklearn import preprocessing\n",
    "from sklearn.model_selection import train_test_split\n",
    "import matplotlib.pyplot as plt"
   ]
  },
  {
   "cell_type": "code",
   "execution_count": 5,
   "metadata": {},
   "outputs": [
    {
     "data": {
      "text/html": [
       "<div>\n",
       "<style scoped>\n",
       "    .dataframe tbody tr th:only-of-type {\n",
       "        vertical-align: middle;\n",
       "    }\n",
       "\n",
       "    .dataframe tbody tr th {\n",
       "        vertical-align: top;\n",
       "    }\n",
       "\n",
       "    .dataframe thead th {\n",
       "        text-align: right;\n",
       "    }\n",
       "</style>\n",
       "<table border=\"1\" class=\"dataframe\">\n",
       "  <thead>\n",
       "    <tr style=\"text-align: right;\">\n",
       "      <th></th>\n",
       "      <th>clump_thickness</th>\n",
       "      <th>size_uniformity</th>\n",
       "      <th>shape_uniformity</th>\n",
       "      <th>marginal_adhesion</th>\n",
       "      <th>epithelial_size</th>\n",
       "      <th>bare_nucleoli</th>\n",
       "      <th>bland_chromatin</th>\n",
       "      <th>normal_nucleoli</th>\n",
       "      <th>mitoses</th>\n",
       "      <th>class</th>\n",
       "    </tr>\n",
       "  </thead>\n",
       "  <tbody>\n",
       "    <tr>\n",
       "      <th>0</th>\n",
       "      <td>9</td>\n",
       "      <td>10</td>\n",
       "      <td>10</td>\n",
       "      <td>1</td>\n",
       "      <td>10</td>\n",
       "      <td>8</td>\n",
       "      <td>3</td>\n",
       "      <td>3</td>\n",
       "      <td>1</td>\n",
       "      <td>0</td>\n",
       "    </tr>\n",
       "    <tr>\n",
       "      <th>1</th>\n",
       "      <td>5</td>\n",
       "      <td>8</td>\n",
       "      <td>8</td>\n",
       "      <td>8</td>\n",
       "      <td>5</td>\n",
       "      <td>10</td>\n",
       "      <td>7</td>\n",
       "      <td>8</td>\n",
       "      <td>1</td>\n",
       "      <td>0</td>\n",
       "    </tr>\n",
       "    <tr>\n",
       "      <th>2</th>\n",
       "      <td>10</td>\n",
       "      <td>2</td>\n",
       "      <td>2</td>\n",
       "      <td>1</td>\n",
       "      <td>2</td>\n",
       "      <td>6</td>\n",
       "      <td>1</td>\n",
       "      <td>1</td>\n",
       "      <td>2</td>\n",
       "      <td>0</td>\n",
       "    </tr>\n",
       "    <tr>\n",
       "      <th>3</th>\n",
       "      <td>6</td>\n",
       "      <td>10</td>\n",
       "      <td>10</td>\n",
       "      <td>2</td>\n",
       "      <td>8</td>\n",
       "      <td>10</td>\n",
       "      <td>7</td>\n",
       "      <td>3</td>\n",
       "      <td>3</td>\n",
       "      <td>0</td>\n",
       "    </tr>\n",
       "    <tr>\n",
       "      <th>4</th>\n",
       "      <td>10</td>\n",
       "      <td>9</td>\n",
       "      <td>8</td>\n",
       "      <td>7</td>\n",
       "      <td>6</td>\n",
       "      <td>4</td>\n",
       "      <td>7</td>\n",
       "      <td>10</td>\n",
       "      <td>3</td>\n",
       "      <td>0</td>\n",
       "    </tr>\n",
       "  </tbody>\n",
       "</table>\n",
       "</div>"
      ],
      "text/plain": [
       "   clump_thickness  size_uniformity  shape_uniformity  marginal_adhesion  \\\n",
       "0                9               10                10                  1   \n",
       "1                5                8                 8                  8   \n",
       "2               10                2                 2                  1   \n",
       "3                6               10                10                  2   \n",
       "4               10                9                 8                  7   \n",
       "\n",
       "   epithelial_size  bare_nucleoli  bland_chromatin  normal_nucleoli  mitoses  \\\n",
       "0               10              8                3                3        1   \n",
       "1                5             10                7                8        1   \n",
       "2                2              6                1                1        2   \n",
       "3                8             10                7                3        3   \n",
       "4                6              4                7               10        3   \n",
       "\n",
       "   class  \n",
       "0      0  \n",
       "1      0  \n",
       "2      0  \n",
       "3      0  \n",
       "4      0  "
      ]
     },
     "execution_count": 5,
     "metadata": {},
     "output_type": "execute_result"
    }
   ],
   "source": [
    "#leer el dataset\n",
    "df=pd.read_csv(\"RegistrosMedicos.csv\")\n",
    "df.head()"
   ]
  },
  {
   "cell_type": "code",
   "execution_count": 6,
   "metadata": {},
   "outputs": [
    {
     "data": {
      "text/plain": [
       "array([0, 1])"
      ]
     },
     "execution_count": 6,
     "metadata": {},
     "output_type": "execute_result"
    }
   ],
   "source": [
    "df[\"class\"].unique()"
   ]
  },
  {
   "cell_type": "code",
   "execution_count": 7,
   "metadata": {},
   "outputs": [
    {
     "data": {
      "text/plain": [
       "clump_thickness      int64\n",
       "size_uniformity      int64\n",
       "shape_uniformity     int64\n",
       "marginal_adhesion    int64\n",
       "epithelial_size      int64\n",
       "bare_nucleoli        int64\n",
       "bland_chromatin      int64\n",
       "normal_nucleoli      int64\n",
       "mitoses              int64\n",
       "class                int64\n",
       "dtype: object"
      ]
     },
     "execution_count": 7,
     "metadata": {},
     "output_type": "execute_result"
    }
   ],
   "source": [
    "df.dtypes"
   ]
  },
  {
   "cell_type": "code",
   "execution_count": 8,
   "metadata": {},
   "outputs": [
    {
     "data": {
      "text/plain": [
       "(525, 10)"
      ]
     },
     "execution_count": 8,
     "metadata": {},
     "output_type": "execute_result"
    }
   ],
   "source": [
    "df.shape"
   ]
  },
  {
   "cell_type": "code",
   "execution_count": 9,
   "metadata": {},
   "outputs": [
    {
     "data": {
      "text/html": [
       "<div>\n",
       "<style scoped>\n",
       "    .dataframe tbody tr th:only-of-type {\n",
       "        vertical-align: middle;\n",
       "    }\n",
       "\n",
       "    .dataframe tbody tr th {\n",
       "        vertical-align: top;\n",
       "    }\n",
       "\n",
       "    .dataframe thead th {\n",
       "        text-align: right;\n",
       "    }\n",
       "</style>\n",
       "<table border=\"1\" class=\"dataframe\">\n",
       "  <thead>\n",
       "    <tr style=\"text-align: right;\">\n",
       "      <th></th>\n",
       "      <th>clump_thickness</th>\n",
       "      <th>size_uniformity</th>\n",
       "      <th>shape_uniformity</th>\n",
       "      <th>marginal_adhesion</th>\n",
       "      <th>epithelial_size</th>\n",
       "      <th>bare_nucleoli</th>\n",
       "      <th>bland_chromatin</th>\n",
       "      <th>normal_nucleoli</th>\n",
       "      <th>mitoses</th>\n",
       "      <th>class</th>\n",
       "    </tr>\n",
       "  </thead>\n",
       "  <tbody>\n",
       "    <tr>\n",
       "      <th>clump_thickness</th>\n",
       "      <td>1.000000</td>\n",
       "      <td>0.639617</td>\n",
       "      <td>0.646653</td>\n",
       "      <td>0.474227</td>\n",
       "      <td>0.521095</td>\n",
       "      <td>0.575444</td>\n",
       "      <td>0.552861</td>\n",
       "      <td>0.537681</td>\n",
       "      <td>0.352912</td>\n",
       "      <td>-0.706864</td>\n",
       "    </tr>\n",
       "    <tr>\n",
       "      <th>size_uniformity</th>\n",
       "      <td>0.639617</td>\n",
       "      <td>1.000000</td>\n",
       "      <td>0.909176</td>\n",
       "      <td>0.715039</td>\n",
       "      <td>0.752172</td>\n",
       "      <td>0.683772</td>\n",
       "      <td>0.764121</td>\n",
       "      <td>0.711335</td>\n",
       "      <td>0.476448</td>\n",
       "      <td>-0.809226</td>\n",
       "    </tr>\n",
       "    <tr>\n",
       "      <th>shape_uniformity</th>\n",
       "      <td>0.646653</td>\n",
       "      <td>0.909176</td>\n",
       "      <td>1.000000</td>\n",
       "      <td>0.695451</td>\n",
       "      <td>0.715744</td>\n",
       "      <td>0.716086</td>\n",
       "      <td>0.737721</td>\n",
       "      <td>0.699798</td>\n",
       "      <td>0.454818</td>\n",
       "      <td>-0.813877</td>\n",
       "    </tr>\n",
       "    <tr>\n",
       "      <th>marginal_adhesion</th>\n",
       "      <td>0.474227</td>\n",
       "      <td>0.715039</td>\n",
       "      <td>0.695451</td>\n",
       "      <td>1.000000</td>\n",
       "      <td>0.584046</td>\n",
       "      <td>0.648329</td>\n",
       "      <td>0.666370</td>\n",
       "      <td>0.631791</td>\n",
       "      <td>0.411031</td>\n",
       "      <td>-0.690956</td>\n",
       "    </tr>\n",
       "    <tr>\n",
       "      <th>epithelial_size</th>\n",
       "      <td>0.521095</td>\n",
       "      <td>0.752172</td>\n",
       "      <td>0.715744</td>\n",
       "      <td>0.584046</td>\n",
       "      <td>1.000000</td>\n",
       "      <td>0.584595</td>\n",
       "      <td>0.612840</td>\n",
       "      <td>0.620295</td>\n",
       "      <td>0.469371</td>\n",
       "      <td>-0.677947</td>\n",
       "    </tr>\n",
       "    <tr>\n",
       "      <th>bare_nucleoli</th>\n",
       "      <td>0.575444</td>\n",
       "      <td>0.683772</td>\n",
       "      <td>0.716086</td>\n",
       "      <td>0.648329</td>\n",
       "      <td>0.584595</td>\n",
       "      <td>1.000000</td>\n",
       "      <td>0.702069</td>\n",
       "      <td>0.576891</td>\n",
       "      <td>0.342451</td>\n",
       "      <td>-0.803681</td>\n",
       "    </tr>\n",
       "    <tr>\n",
       "      <th>bland_chromatin</th>\n",
       "      <td>0.552861</td>\n",
       "      <td>0.764121</td>\n",
       "      <td>0.737721</td>\n",
       "      <td>0.666370</td>\n",
       "      <td>0.612840</td>\n",
       "      <td>0.702069</td>\n",
       "      <td>1.000000</td>\n",
       "      <td>0.665065</td>\n",
       "      <td>0.364205</td>\n",
       "      <td>-0.775519</td>\n",
       "    </tr>\n",
       "    <tr>\n",
       "      <th>normal_nucleoli</th>\n",
       "      <td>0.537681</td>\n",
       "      <td>0.711335</td>\n",
       "      <td>0.699798</td>\n",
       "      <td>0.631791</td>\n",
       "      <td>0.620295</td>\n",
       "      <td>0.576891</td>\n",
       "      <td>0.665065</td>\n",
       "      <td>1.000000</td>\n",
       "      <td>0.453178</td>\n",
       "      <td>-0.714188</td>\n",
       "    </tr>\n",
       "    <tr>\n",
       "      <th>mitoses</th>\n",
       "      <td>0.352912</td>\n",
       "      <td>0.476448</td>\n",
       "      <td>0.454818</td>\n",
       "      <td>0.411031</td>\n",
       "      <td>0.469371</td>\n",
       "      <td>0.342451</td>\n",
       "      <td>0.364205</td>\n",
       "      <td>0.453178</td>\n",
       "      <td>1.000000</td>\n",
       "      <td>-0.417426</td>\n",
       "    </tr>\n",
       "    <tr>\n",
       "      <th>class</th>\n",
       "      <td>-0.706864</td>\n",
       "      <td>-0.809226</td>\n",
       "      <td>-0.813877</td>\n",
       "      <td>-0.690956</td>\n",
       "      <td>-0.677947</td>\n",
       "      <td>-0.803681</td>\n",
       "      <td>-0.775519</td>\n",
       "      <td>-0.714188</td>\n",
       "      <td>-0.417426</td>\n",
       "      <td>1.000000</td>\n",
       "    </tr>\n",
       "  </tbody>\n",
       "</table>\n",
       "</div>"
      ],
      "text/plain": [
       "                   clump_thickness  size_uniformity  shape_uniformity  \\\n",
       "clump_thickness           1.000000         0.639617          0.646653   \n",
       "size_uniformity           0.639617         1.000000          0.909176   \n",
       "shape_uniformity          0.646653         0.909176          1.000000   \n",
       "marginal_adhesion         0.474227         0.715039          0.695451   \n",
       "epithelial_size           0.521095         0.752172          0.715744   \n",
       "bare_nucleoli             0.575444         0.683772          0.716086   \n",
       "bland_chromatin           0.552861         0.764121          0.737721   \n",
       "normal_nucleoli           0.537681         0.711335          0.699798   \n",
       "mitoses                   0.352912         0.476448          0.454818   \n",
       "class                    -0.706864        -0.809226         -0.813877   \n",
       "\n",
       "                   marginal_adhesion  epithelial_size  bare_nucleoli  \\\n",
       "clump_thickness             0.474227         0.521095       0.575444   \n",
       "size_uniformity             0.715039         0.752172       0.683772   \n",
       "shape_uniformity            0.695451         0.715744       0.716086   \n",
       "marginal_adhesion           1.000000         0.584046       0.648329   \n",
       "epithelial_size             0.584046         1.000000       0.584595   \n",
       "bare_nucleoli               0.648329         0.584595       1.000000   \n",
       "bland_chromatin             0.666370         0.612840       0.702069   \n",
       "normal_nucleoli             0.631791         0.620295       0.576891   \n",
       "mitoses                     0.411031         0.469371       0.342451   \n",
       "class                      -0.690956        -0.677947      -0.803681   \n",
       "\n",
       "                   bland_chromatin  normal_nucleoli   mitoses     class  \n",
       "clump_thickness           0.552861         0.537681  0.352912 -0.706864  \n",
       "size_uniformity           0.764121         0.711335  0.476448 -0.809226  \n",
       "shape_uniformity          0.737721         0.699798  0.454818 -0.813877  \n",
       "marginal_adhesion         0.666370         0.631791  0.411031 -0.690956  \n",
       "epithelial_size           0.612840         0.620295  0.469371 -0.677947  \n",
       "bare_nucleoli             0.702069         0.576891  0.342451 -0.803681  \n",
       "bland_chromatin           1.000000         0.665065  0.364205 -0.775519  \n",
       "normal_nucleoli           0.665065         1.000000  0.453178 -0.714188  \n",
       "mitoses                   0.364205         0.453178  1.000000 -0.417426  \n",
       "class                    -0.775519        -0.714188 -0.417426  1.000000  "
      ]
     },
     "execution_count": 9,
     "metadata": {},
     "output_type": "execute_result"
    }
   ],
   "source": [
    "df.corr()"
   ]
  },
  {
   "cell_type": "code",
   "execution_count": 10,
   "metadata": {},
   "outputs": [
    {
     "name": "stdout",
     "output_type": "stream",
     "text": [
      "clump_thickness\n",
      "False    525\n",
      "Name: clump_thickness, dtype: int64\n",
      "\n",
      "size_uniformity\n",
      "False    525\n",
      "Name: size_uniformity, dtype: int64\n",
      "\n",
      "shape_uniformity\n",
      "False    525\n",
      "Name: shape_uniformity, dtype: int64\n",
      "\n",
      "marginal_adhesion\n",
      "False    525\n",
      "Name: marginal_adhesion, dtype: int64\n",
      "\n",
      "epithelial_size\n",
      "False    525\n",
      "Name: epithelial_size, dtype: int64\n",
      "\n",
      "bare_nucleoli\n",
      "False    525\n",
      "Name: bare_nucleoli, dtype: int64\n",
      "\n",
      "bland_chromatin\n",
      "False    525\n",
      "Name: bland_chromatin, dtype: int64\n",
      "\n",
      "normal_nucleoli\n",
      "False    525\n",
      "Name: normal_nucleoli, dtype: int64\n",
      "\n",
      "mitoses\n",
      "False    525\n",
      "Name: mitoses, dtype: int64\n",
      "\n",
      "class\n",
      "False    525\n",
      "Name: class, dtype: int64\n",
      "\n"
     ]
    }
   ],
   "source": [
    "#Verificar valores faltantes\n",
    "df.replace(\"?\",np.NaN,inplace=True)\n",
    "datos_faltantes=df.isnull()\n",
    "for column in datos_faltantes.columns.values.tolist():\n",
    "    print(column)\n",
    "    print(datos_faltantes[column].value_counts())\n",
    "    print(\"\")"
   ]
  },
  {
   "cell_type": "markdown",
   "metadata": {},
   "source": [
    "#### Analisis para el modelo de prediccion/clasificacion con SVM"
   ]
  },
  {
   "cell_type": "code",
   "execution_count": 13,
   "metadata": {},
   "outputs": [
    {
     "data": {
      "text/plain": [
       "<AxesSubplot:xlabel='shape_uniformity', ylabel='size_uniformity'>"
      ]
     },
     "execution_count": 13,
     "metadata": {},
     "output_type": "execute_result"
    },
    {
     "data": {
      "image/png": "[encoded data removed]",
      "text/plain": [
       "<Figure size 432x288 with 1 Axes>"
      ]
     },
     "metadata": {
      "needs_background": "light"
     },
     "output_type": "display_data"
    }
   ],
   "source": [
    "ax=df[df[\"class\"]==1].plot(kind=\"scatter\",x=\"shape_uniformity\",y=\"size_uniformity\",color=\"Red\",label=\"Maligno\");\n",
    "df[df[\"class\"]==0].plot(kind=\"scatter\",x=\"shape_uniformity\",y=\"size_uniformity\",color=\"Blue\",label=\"Benigno\",ax=ax)"
   ]
  },
  {
   "cell_type": "code",
   "execution_count": 14,
   "metadata": {},
   "outputs": [],
   "source": [
    "# Definir las varibles\n",
    "x=np.asarray(df[[\"clump_thickness\",\"size_uniformity\",\"shape_uniformity\",\"marginal_adhesion\",\"epithelial_size\",\"bare_nucleoli\",\"bland_chromatin\",\"normal_nucleoli\",\"mitoses\"]])\n",
    "y=np.asarray(df[\"class\"])"
   ]
  },
  {
   "cell_type": "code",
   "execution_count": 15,
   "metadata": {},
   "outputs": [
    {
     "data": {
      "text/plain": [
       "array([[ 9, 10, 10,  1, 10,  8,  3,  3,  1],\n",
       "       [ 5,  8,  8,  8,  5, 10,  7,  8,  1],\n",
       "       [10,  2,  2,  1,  2,  6,  1,  1,  2],\n",
       "       [ 6, 10, 10,  2,  8, 10,  7,  3,  3],\n",
       "       [10,  9,  8,  7,  6,  4,  7, 10,  3]])"
      ]
     },
     "execution_count": 15,
     "metadata": {},
     "output_type": "execute_result"
    }
   ],
   "source": [
    "x[0:5]"
   ]
  },
  {
   "cell_type": "code",
   "execution_count": 16,
   "metadata": {},
   "outputs": [
    {
     "data": {
      "text/plain": [
       "array([0, 0, 0, 0, 0])"
      ]
     },
     "execution_count": 16,
     "metadata": {},
     "output_type": "execute_result"
    }
   ],
   "source": [
    "y[0:5]"
   ]
  },
  {
   "cell_type": "code",
   "execution_count": 17,
   "metadata": {},
   "outputs": [
    {
     "name": "stdout",
     "output_type": "stream",
     "text": [
      "Conjunto de Entrenamiento: (367, 9) (367,)\n",
      "Conjunto de Prueba/Validación: (158, 9) (158,)\n"
     ]
    }
   ],
   "source": [
    "#Dividir el dataset\n",
    "xtrain,xtest,ytrain,ytest=train_test_split(x,y,test_size=0.3,random_state=4)\n",
    "print(\"Conjunto de Entrenamiento:\",xtrain.shape,ytrain.shape)\n",
    "print(\"Conjunto de Prueba/Validación:\",xtest.shape,ytest.shape)"
   ]
  },
  {
   "cell_type": "code",
   "execution_count": 18,
   "metadata": {},
   "outputs": [],
   "source": [
    "#Implementamos SVM\n",
    "from sklearn import svm"
   ]
  },
  {
   "cell_type": "code",
   "execution_count": 19,
   "metadata": {},
   "outputs": [
    {
     "data": {
      "text/plain": [
       "SVC()"
      ]
     },
     "execution_count": 19,
     "metadata": {},
     "output_type": "execute_result"
    }
   ],
   "source": [
    "#Definir la función para el dataset\n",
    "c_svm=svm.SVC(kernel=\"rbf\")\n",
    "#El ajuste o entrenamiento\n",
    "c_svm.fit(xtrain,ytrain)"
   ]
  },
  {
   "cell_type": "code",
   "execution_count": 20,
   "metadata": {},
   "outputs": [
    {
     "data": {
      "text/plain": [
       "array([1, 1, 0, 1, 0])"
      ]
     },
     "execution_count": 20,
     "metadata": {},
     "output_type": "execute_result"
    }
   ],
   "source": [
    "#calcular la hipoteis\n",
    "h=c_svm.predict(xtest)\n",
    "h[0:5]"
   ]
  },
  {
   "cell_type": "code",
   "execution_count": 21,
   "metadata": {},
   "outputs": [],
   "source": [
    "#Obtener las métricas\n",
    "from sklearn.metrics import classification_report, confusion_matrix, mean_squared_error"
   ]
  },
  {
   "cell_type": "code",
   "execution_count": 22,
   "metadata": {},
   "outputs": [
    {
     "name": "stdout",
     "output_type": "stream",
     "text": [
      "              precision    recall  f1-score   support\n",
      "\n",
      "           0       0.94      0.94      0.94        53\n",
      "           1       0.97      0.97      0.97       105\n",
      "\n",
      "    accuracy                           0.96       158\n",
      "   macro avg       0.96      0.96      0.96       158\n",
      "weighted avg       0.96      0.96      0.96       158\n",
      "\n"
     ]
    }
   ],
   "source": [
    "print(classification_report(ytest,h))"
   ]
  },
  {
   "cell_type": "code",
   "execution_count": 23,
   "metadata": {},
   "outputs": [],
   "source": [
    "matriz_confusion=confusion_matrix(ytest,h)"
   ]
  },
  {
   "cell_type": "code",
   "execution_count": 24,
   "metadata": {},
   "outputs": [
    {
     "data": {
      "text/plain": [
       "array([[ 50,   3],\n",
       "       [  3, 102]])"
      ]
     },
     "execution_count": 24,
     "metadata": {},
     "output_type": "execute_result"
    }
   ],
   "source": [
    "matriz_confusion"
   ]
  },
  {
   "cell_type": "code",
   "execution_count": 25,
   "metadata": {},
   "outputs": [
    {
     "name": "stdout",
     "output_type": "stream",
     "text": [
      "el MSE del modelo es: 0.0379746835443038\n"
     ]
    }
   ],
   "source": [
    "MSE1=mean_squared_error(ytest,h)\n",
    "print(\"el MSE del modelo es:\",MSE1)"
   ]
  },
  {
   "cell_type": "code",
   "execution_count": 26,
   "metadata": {},
   "outputs": [
    {
     "data": {
      "text/plain": [
       "array([1, 1, 1, 1, 1])"
      ]
     },
     "execution_count": 26,
     "metadata": {},
     "output_type": "execute_result"
    }
   ],
   "source": [
    "#Probar con funcion sigmoid para el kernel\n",
    "#Definir la función para el kernel\n",
    "c1_svm=svm.SVC(kernel=\"sigmoid\")\n",
    "#el ajuste o entrenamiento\n",
    "c1_svm.fit(xtrain,ytrain)\n",
    "#calcular la hipotesis\n",
    "h1=c1_svm.predict(xtest)\n",
    "h1[0:5]"
   ]
  },
  {
   "cell_type": "code",
   "execution_count": 27,
   "metadata": {},
   "outputs": [
    {
     "name": "stdout",
     "output_type": "stream",
     "text": [
      "              precision    recall  f1-score   support\n",
      "\n",
      "           0       0.03      0.02      0.02        53\n",
      "           1       0.58      0.70      0.63       105\n",
      "\n",
      "    accuracy                           0.47       158\n",
      "   macro avg       0.31      0.36      0.33       158\n",
      "weighted avg       0.40      0.47      0.43       158\n",
      "\n"
     ]
    }
   ],
   "source": [
    "print(classification_report(ytest,h1))"
   ]
  },
  {
   "cell_type": "code",
   "execution_count": 32,
   "metadata": {},
   "outputs": [
    {
     "name": "stdout",
     "output_type": "stream",
     "text": [
      "el MSE del modelo es: 0.5316455696202531\n"
     ]
    }
   ],
   "source": [
    "MSE2=mean_squared_error(ytest,h1)\n",
    "print(\"el MSE del modelo es:\",MSE2)"
   ]
  },
  {
   "cell_type": "code",
   "execution_count": 28,
   "metadata": {},
   "outputs": [
    {
     "data": {
      "text/plain": [
       "array([1, 1, 0, 1, 0])"
      ]
     },
     "execution_count": 28,
     "metadata": {},
     "output_type": "execute_result"
    }
   ],
   "source": [
    "#Probar con funcion sigmoid para el kernel\n",
    "#Definir la función para el kernel\n",
    "c2_svm=svm.SVC(kernel=\"linear\")\n",
    "#el ajuste o entrenamiento\n",
    "c2_svm.fit(xtrain,ytrain)\n",
    "#calcular la hipotesis\n",
    "h2=c2_svm.predict(xtest)\n",
    "h2[0:5]"
   ]
  },
  {
   "cell_type": "code",
   "execution_count": 29,
   "metadata": {},
   "outputs": [
    {
     "name": "stdout",
     "output_type": "stream",
     "text": [
      "              precision    recall  f1-score   support\n",
      "\n",
      "           0       0.94      0.92      0.93        53\n",
      "           1       0.96      0.97      0.97       105\n",
      "\n",
      "    accuracy                           0.96       158\n",
      "   macro avg       0.95      0.95      0.95       158\n",
      "weighted avg       0.96      0.96      0.96       158\n",
      "\n"
     ]
    }
   ],
   "source": [
    "print(classification_report(ytest,h2))"
   ]
  },
  {
   "cell_type": "code",
   "execution_count": 33,
   "metadata": {},
   "outputs": [
    {
     "name": "stdout",
     "output_type": "stream",
     "text": [
      "el MSE del modelo es: 0.04430379746835443\n"
     ]
    }
   ],
   "source": [
    "MSE3=mean_squared_error(ytest,h2)\n",
    "print(\"el MSE del modelo es:\",MSE3)"
   ]
  },
  {
   "cell_type": "code",
   "execution_count": 30,
   "metadata": {},
   "outputs": [
    {
     "data": {
      "text/plain": [
       "array([1, 1, 0, 1, 0])"
      ]
     },
     "execution_count": 30,
     "metadata": {},
     "output_type": "execute_result"
    }
   ],
   "source": [
    "#Probar con funcion sigmoid para el kernel\n",
    "#Definir la función para el kernel\n",
    "c3_svm=svm.SVC(kernel=\"poly\")\n",
    "#el ajuste o entrenamiento\n",
    "c3_svm.fit(xtrain,ytrain)\n",
    "#calcular la hipotesis\n",
    "h3=c3_svm.predict(xtest)\n",
    "h3[0:5]"
   ]
  },
  {
   "cell_type": "code",
   "execution_count": 31,
   "metadata": {},
   "outputs": [
    {
     "name": "stdout",
     "output_type": "stream",
     "text": [
      "              precision    recall  f1-score   support\n",
      "\n",
      "           0       0.96      0.91      0.93        53\n",
      "           1       0.95      0.98      0.97       105\n",
      "\n",
      "    accuracy                           0.96       158\n",
      "   macro avg       0.96      0.94      0.95       158\n",
      "weighted avg       0.96      0.96      0.96       158\n",
      "\n"
     ]
    }
   ],
   "source": [
    "print(classification_report(ytest,h3))"
   ]
  },
  {
   "cell_type": "code",
   "execution_count": 34,
   "metadata": {},
   "outputs": [
    {
     "name": "stdout",
     "output_type": "stream",
     "text": [
      "el MSE del modelo es: 0.04430379746835443\n"
     ]
    }
   ],
   "source": [
    "MSE4=mean_squared_error(ytest,h3)\n",
    "print(\"el MSE del modelo es:\",MSE4)"
   ]
  },
  {
   "cell_type": "markdown",
   "metadata": {},
   "source": [
    "* | rbf | sigmoid | linear | poly\n",
    "--|--|--|-- |--\n",
    "MSE| 0.0379746835443038 | 0.5316455696202531 | 0.04430379746835443 | 0.04430379746835443\n",
    "precision (macro avg) | 0.96 | 0.31 | 0.95 | 0.96 \n"
   ]
  },
  {
   "cell_type": "markdown",
   "metadata": {},
   "source": [
    "**CONSLUSION:** KERNEL CON LA FUNCIÓN POLINOMIAL EN RELACION CON LAS OTRAS FUNCIONES, ES MEJOR YA QUE TIENE LAS MEJORES MÉTRICAS."
   ]
  },
  {
   "cell_type": "code",
   "execution_count": null,
   "metadata": {},
   "outputs": [],
   "source": []
  }
 ],
 "metadata": {
  "kernelspec": {
   "display_name": "Python",
   "language": "python",
   "name": "conda-env-python-py"
  },
  "language_info": {
   "codemirror_mode": {
    "name": "ipython",
    "version": 3
   },
   "file_extension": ".py",
   "mimetype": "text/x-python",
   "name": "python",
   "nbconvert_exporter": "python",
   "pygments_lexer": "ipython3",
   "version": "3.6.12"
  }
 },
 "nbformat": 4,
 "nbformat_minor": 4
}
